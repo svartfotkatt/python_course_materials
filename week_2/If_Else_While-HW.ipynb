{
 "cells": [
  {
   "cell_type": "markdown",
   "metadata": {
    "id": "iYI77HlhDJNI"
   },
   "source": [
    "# Условный оператор, цикл while"
   ]
  },
  {
   "cell_type": "markdown",
   "metadata": {
    "id": "1c_vgvcRDJNJ"
   },
   "source": [
    "# Условия"
   ]
  },
  {
   "cell_type": "markdown",
   "metadata": {
    "id": "zDeqzpPkDJNK"
   },
   "source": [
    "Условия это, наверное, душа программирования. Мы очень часто хотим, чтобы наша программа работала по разному в зависимости от происходящего. Алгоритмы, использующие условия, называют разветвляющимися, и для их понимания очень удобно рисовать блок-схемы (нет, они не остались в школе, если в коде много условий и разных действий по-прежнему очень помогает нарисовать на бумаге дерево). \n",
    "\n",
    "**Условия (`if`)** позволяют выполнять код только в случае истинности какого-то логического выражения.\n",
    "\n",
    "Проще говоря, \"если верно, что..., то сделать ...\".\n",
    "\n",
    "Самый простой пример использования `if` - это вывод какой-то фразы по условию."
   ]
  },
  {
   "cell_type": "code",
   "execution_count": 9,
   "metadata": {
    "colab": {
     "base_uri": "https://localhost:8080/"
    },
    "id": "UWl3D4piDJNL",
    "outputId": "f14baf89-84e4-42b7-de66-de4e7582c0c7"
   },
   "outputs": [
    {
     "name": "stdout",
     "output_type": "stream",
     "text": [
      "That is true!\n"
     ]
    }
   ],
   "source": [
    "x = 1\n",
    "if x == 1:  # Выражение равно True, это условие истинное\n",
    "    print('That is true!')  # Фраза выводится"
   ]
  },
  {
   "cell_type": "code",
   "execution_count": 10,
   "metadata": {
    "id": "6WqqqSHADJNM"
   },
   "outputs": [],
   "source": [
    "if x != 1:  # Выражение равно False, это условие ложное\n",
    "    print('That is true!')  # Фраза не выводится"
   ]
  },
  {
   "cell_type": "markdown",
   "metadata": {
    "id": "Rg7g5DYaDJNM"
   },
   "source": [
    "Обратите внимание, что код, который находится внутри условия, выделяется отступом в 4 пробела или табуляцией (работает не во всех IDE, но в Jupyter все будет хорошо).\n",
    "\n",
    "Иначе программа не поймет, что он относится к условию."
   ]
  },
  {
   "cell_type": "code",
   "execution_count": 1,
   "metadata": {
    "colab": {
     "base_uri": "https://localhost:8080/",
     "height": 130
    },
    "id": "6tAOLffwDJNN",
    "outputId": "7ddba1b7-d5e2-4c10-d94c-0493334db8b2"
   },
   "outputs": [
    {
     "ename": "IndentationError",
     "evalue": "expected an indented block (1792518883.py, line 2)",
     "output_type": "error",
     "traceback": [
      "\u001b[1;36m  Input \u001b[1;32mIn [1]\u001b[1;36m\u001b[0m\n\u001b[1;33m    print('That is true!')\u001b[0m\n\u001b[1;37m    ^\u001b[0m\n\u001b[1;31mIndentationError\u001b[0m\u001b[1;31m:\u001b[0m expected an indented block\n"
     ]
    }
   ],
   "source": [
    "if x == 1:\n",
    "print('That is true!')"
   ]
  },
  {
   "cell_type": "markdown",
   "metadata": {
    "id": "Vx4-7KjDDJNO"
   },
   "source": [
    "А что делать, если в том случае, когда условие не истинное, мы тоже хотим совершать какое-то действие? Для этого у нас есть ключевое слово **`else` (\"то\")**. "
   ]
  },
  {
   "cell_type": "code",
   "execution_count": null,
   "metadata": {
    "colab": {
     "base_uri": "https://localhost:8080/"
    },
    "id": "96BoJSIVDJNO",
    "outputId": "66ec7b75-e5fe-41a4-b531-ce10fa3c4faa"
   },
   "outputs": [
    {
     "name": "stdout",
     "output_type": "stream",
     "text": [
      "That is false!\n"
     ]
    }
   ],
   "source": [
    "if x != 1:\n",
    "    print('That is true!')\n",
    "else:\n",
    "    print('That is false!')"
   ]
  },
  {
   "cell_type": "markdown",
   "metadata": {
    "id": "hUigITIDDJNP"
   },
   "source": [
    "Мы разобрались, как поступать, если у нас два варианта действий, но их может быть и больше.\n",
    "\n",
    "Для примера давайте решим простую задачу - найти минимум из двух введенных чисел. Пока ничего нового:"
   ]
  },
  {
   "cell_type": "code",
   "execution_count": 5,
   "metadata": {
    "colab": {
     "base_uri": "https://localhost:8080/"
    },
    "id": "BZuyqwTZDJNP",
    "outputId": "bd230341-1162-4f51-c7ee-76f5141c941c"
   },
   "outputs": [
    {
     "name": "stdout",
     "output_type": "stream",
     "text": [
      "Введите первое число: 6\n",
      "Введите второе число: 4\n",
      "Минимум равен 4\n"
     ]
    }
   ],
   "source": [
    "a = int(input('Введите первое число: '))\n",
    "b = int(input('Введите второе число: '))\n",
    "\n",
    "minumum = \"undefined\" # так лучше писать, потому что может слететь значение минимума из памяти\n",
    "\n",
    "if a < b:\n",
    "    minimum = a\n",
    "else:\n",
    "    minimum = b\n",
    "\n",
    "print('Минимум равен', minimum)"
   ]
  },
  {
   "cell_type": "markdown",
   "metadata": {
    "id": "PVZqXYFNDJNQ"
   },
   "source": [
    "А теперь усложним задание, добавив третий вариант развития событий - если числа равны, будем печатать *'Равные числа'*.\n",
    "\n",
    "Можно решить эту задачу с помощью вложенных условий:"
   ]
  },
  {
   "cell_type": "code",
   "execution_count": 12,
   "metadata": {
    "colab": {
     "base_uri": "https://localhost:8080/"
    },
    "id": "1xbQlg0LDJNQ",
    "outputId": "25190b82-15a9-4082-cf85-0c23d7974b4f"
   },
   "outputs": [
    {
     "name": "stdout",
     "output_type": "stream",
     "text": [
      "Введите первое число: 2\n",
      "Введите второе число: 2\n",
      "Равные числа: 2\n"
     ]
    }
   ],
   "source": [
    "a = int(input('Введите первое число: '))\n",
    "b = int(input('Введите второе число: '))\n",
    "\n",
    "if a < b: \n",
    "    print(a)\n",
    "else:\n",
    "    if a > b: # обратите внимание, здесь одно условие находится внутри другого, и код ниже будет писаться после двойного отступа\n",
    "        print(b)\n",
    "    else:\n",
    "        print('Равные числа:', a)"
   ]
  },
  {
   "cell_type": "markdown",
   "metadata": {
    "id": "-apLWq76DJNR"
   },
   "source": [
    "Неплохо, но можно упростить это решение с помощью конструкции **`else` `if` (или `elif`)**, которая позволяет в случае ложности условия сразу же написать еще одну проверку.\n",
    "\n",
    "Вот как будет выглядеть решение нашей задачи с помощью `elif`:"
   ]
  },
  {
   "cell_type": "code",
   "execution_count": 1,
   "metadata": {
    "colab": {
     "base_uri": "https://localhost:8080/"
    },
    "id": "inBZgMPIDJNR",
    "outputId": "35dbb53a-1463-4654-fed6-961060027434"
   },
   "outputs": [
    {
     "name": "stdout",
     "output_type": "stream",
     "text": [
      "Введите первое число: 5\n",
      "Введите второе число: 8\n",
      "5\n"
     ]
    }
   ],
   "source": [
    "a = int(input('Введите первое число: '))\n",
    "b = int(input('Введите второе число: '))\n",
    "\n",
    "if a < b: \n",
    "    print(a)\n",
    "elif a > b: \n",
    "    print(b)\n",
    "else:\n",
    "    print('Равные числа:', a)"
   ]
  },
  {
   "cell_type": "markdown",
   "metadata": {
    "id": "dpp95noHDJNS"
   },
   "source": [
    "## Task #1"
   ]
  },
  {
   "cell_type": "markdown",
   "metadata": {
    "id": "ahNw__GEDJNS"
   },
   "source": [
    "### Распродажа\n",
    "\n",
    "В магазине проходит акция:\n",
    "* На все товары дешевле 1000 рублей скидка 15%\n",
    "* На все товары дороже 1000, но дешевле 5000 рублей скидка 20%\n",
    "* На все товары дороже 5000 рублей скидка 25%\n",
    "\n",
    "**Ввод**  \n",
    "Целое неотрицательное число - цена товара в рублях\n",
    "\n",
    "**Вывод**  \n",
    "Целое неотрицательное число - скидка на товар в рублях"
   ]
  },
  {
   "cell_type": "code",
   "execution_count": 22,
   "metadata": {},
   "outputs": [
    {
     "name": "stdout",
     "output_type": "stream",
     "text": [
      "Введите цену: 1500\n",
      "Скидка на товар составит 375.0 руб.\n"
     ]
    }
   ],
   "source": [
    "price = int(input(\"Введите цену: \"))\n",
    "sale = 0\n",
    "\n",
    "if price <= 1000:\n",
    "    sale = price / 100 * 15\n",
    "    \n",
    "elif price > price and price <= 5000:\n",
    "    sale = price / 100 * 20\n",
    "    \n",
    "else:\n",
    "    sale = price / 100 * 25\n",
    "\n",
    "print (\"Скидка на товар составит\", sale, \"руб.\")"
   ]
  },
  {
   "cell_type": "markdown",
   "metadata": {
    "id": "gLrMjv9BDJNT"
   },
   "source": [
    "# Цикл while"
   ]
  },
  {
   "cell_type": "markdown",
   "metadata": {
    "id": "OjBSSFiyDJNU"
   },
   "source": [
    "Довольно часто задачи требуют от нас несколько раз выполнить однотипный код.\n",
    "\n",
    "Если писать несколько раз одни и те же строки, это загромождает программу. Иногда несколько раз превращается в много (100 или 10000).\n",
    "А иногда это число вообще зависит от параметров ввода.\n",
    "\n",
    "Справиться с этим помогают **циклы**. На этом семинаре мы поработаем с циклом **`while` (пока)**"
   ]
  },
  {
   "cell_type": "markdown",
   "metadata": {
    "id": "PmpkZqFUDJNU"
   },
   "source": [
    "Прицип использования цикла while: записываем логическое выражение и некоторый код. Код будет выполняться до тех пор, пока логическое выражение верно.\n",
    "\n",
    "Например, давайте напечатаем все целые числа от 1 до 10."
   ]
  },
  {
   "cell_type": "code",
   "execution_count": 27,
   "metadata": {},
   "outputs": [
    {
     "name": "stdout",
     "output_type": "stream",
     "text": [
      "1\n",
      "2\n",
      "3\n",
      "4\n",
      "5\n",
      "6\n",
      "7\n",
      "8\n",
      "9\n",
      "10\n"
     ]
    }
   ],
   "source": [
    "# каждое число последовательно увеличивается на 1. повторяющаяся операция - это к значению которое сейчас +1\n",
    "\n",
    "i = 0\n",
    "\n",
    "while i < 10:\n",
    "    i = i + 1 # это не уравнение, это команда которая последовательно выполняется. i - это ссылка на значение 1,\n",
    "    # которое хранится в памяти. синтаксис в том что = это не равно, а привязка такая.\n",
    "    # а тут мы говорим, что теперь i будет равно какой-то другой ячейке в памяти. равно тому что уже было + 1\n",
    "    print (i)"
   ]
  },
  {
   "cell_type": "code",
   "execution_count": 71,
   "metadata": {},
   "outputs": [
    {
     "name": "stdout",
     "output_type": "stream",
     "text": [
      "1\n",
      "OK\n",
      "2\n",
      "OK\n",
      "3\n",
      "OK\n",
      "4\n",
      "OK\n",
      "5\n",
      "OK\n",
      "6\n",
      "OK\n",
      "7\n",
      "OK\n",
      "8\n",
      "OK\n",
      "9\n",
      "OK\n"
     ]
    }
   ],
   "source": [
    "i = 0\n",
    "\n",
    "while (i<10) and (i<9) and ((i<8) or (i>7)):\n",
    "    i = i+1\n",
    "    print (i)\n",
    "    if type(i) == int:\n",
    "        print (\"OK\")"
   ]
  },
  {
   "cell_type": "code",
   "execution_count": 30,
   "metadata": {},
   "outputs": [
    {
     "name": "stdout",
     "output_type": "stream",
     "text": [
      "1\n",
      "2\n",
      "3\n",
      "4\n",
      "5\n",
      "6\n",
      "7\n",
      "8\n",
      "9\n",
      "10\n"
     ]
    }
   ],
   "source": [
    "# ИЛИ можно написать так:\n",
    "i = 0\n",
    "\n",
    "while i < 10:\n",
    "    i += 1\n",
    "    print (i)\n",
    "    # i +=1 это тоже самое что i+1"
   ]
  },
  {
   "cell_type": "code",
   "execution_count": 1,
   "metadata": {
    "colab": {
     "base_uri": "https://localhost:8080/"
    },
    "id": "z5_n4cQHDJNU",
    "outputId": "bb91db78-e694-43d3-e9af-209093d0f60a"
   },
   "outputs": [
    {
     "name": "stdout",
     "output_type": "stream",
     "text": [
      "0\n",
      "Round #1\n",
      "1\n",
      "Round #2\n",
      "2\n",
      "Round #3\n",
      "3\n",
      "Round #4\n",
      "4\n",
      "Round #5\n",
      "5\n",
      "Round #6\n",
      "6\n",
      "7\n",
      "Round #8\n",
      "8\n",
      "Round #9\n",
      "9\n",
      "Round #10\n",
      "10\n",
      "Round #11\n"
     ]
    }
   ],
   "source": [
    "i = 0\n",
    "while i < 11:\n",
    "    print(i)\n",
    "    i += 1\n",
    "    if i == 7:\n",
    "        continue \n",
    "    print(f\"Round #{i}\")\n"
   ]
  },
  {
   "cell_type": "markdown",
   "metadata": {
    "id": "-xsFtakADJNV"
   },
   "source": [
    "Здесь мы использовали запись `i += 1`. Она эквивалентна `i = i + 1`.  \n",
    "Аналогично можно записывать и другие арифметические операции: например, `-=`"
   ]
  },
  {
   "cell_type": "markdown",
   "metadata": {
    "id": "ldhbPmeGDJNV"
   },
   "source": [
    "Обратите внимание, что код внутри цикла (тот, который мы хотим повторно выполнять), выделяется отступом."
   ]
  },
  {
   "cell_type": "markdown",
   "metadata": {
    "id": "wE8sRsKzDJNV"
   },
   "source": [
    "## Операторы break и continue."
   ]
  },
  {
   "cell_type": "markdown",
   "metadata": {
    "id": "fewdNAzBDJNW"
   },
   "source": [
    "Циклами можно управлять с помощью операторов **`break`**, **`continue`**."
   ]
  },
  {
   "cell_type": "markdown",
   "metadata": {
    "id": "CFla2D7nDJNW"
   },
   "source": [
    "**`break`** внутри цикла позволяет прервать его выполнение и сразу же перейти к коду, который идет после цикла (либо завершить программу).  \n",
    "\n",
    "В этом случае мы можем написать сразу после цикла секцию **`else`** (синтаксис при этом такой же, как и в условиях).  \n",
    "Код, написанный после **`else`**, будет выполняться, если цикл завершился \"естественным путем\" (т.е. не был прерван с помощью `break`)."
   ]
  },
  {
   "cell_type": "code",
   "execution_count": 37,
   "metadata": {},
   "outputs": [
    {
     "data": {
      "text/plain": [
       "'aaaaaaaaaaaaaaaaa'"
      ]
     },
     "execution_count": 37,
     "metadata": {},
     "output_type": "execute_result"
    }
   ],
   "source": [
    "index_while = 0\n",
    "value = 'a'\n",
    "while index_while <= 15:\n",
    "    index_while = index_while + 1\n",
    "    value = value + 'a'\n",
    "    #внутри цикла совершается какое то полезное действие - вывести 15 раз букву а\n",
    "    \n",
    "value\n",
    "\n",
    "#технический код для реализации алгоритма"
   ]
  },
  {
   "cell_type": "code",
   "execution_count": 38,
   "metadata": {},
   "outputs": [
    {
     "name": "stdout",
     "output_type": "stream",
     "text": [
      "0\n",
      "2\n",
      "4\n",
      "6\n",
      "8\n",
      "10\n",
      "12\n",
      "14\n"
     ]
    }
   ],
   "source": [
    "index_while = 0\n",
    "value = 0\n",
    "while index_while <= 15:\n",
    "    if value % 2 == 0:\n",
    "        print(value)\n",
    "    index_while = index_while + 1\n",
    "    value = value + 1"
   ]
  },
  {
   "cell_type": "markdown",
   "metadata": {
    "id": "ggOESFHqDJNX"
   },
   "source": [
    "## Task #2\n",
    "\n",
    "Рассмотрим пример задачи, которую можно решить с использованием `break`. \n",
    "\n",
    "Пусть студент сдал 5 предметов во время сессии и мы хотим узнать, есть ли у него пересдачи\n",
    "\n",
    "**Формат ввода**  \n",
    "До пяти оценок от 1 до 10\n",
    "\n",
    "**Формат вывода**  \n",
    "Если хотя бы одна из оценок меньше 4, завершаем программу и печатаем 'YES' (пересдачи есть)  \n",
    "Если все пять оценок больше 3, печатаем 'NO' (студент закрыл сессию без пересдач)"
   ]
  },
  {
   "cell_type": "code",
   "execution_count": 49,
   "metadata": {},
   "outputs": [
    {
     "name": "stdout",
     "output_type": "stream",
     "text": [
      "Введите оценку: 6\n",
      "Введите оценку: 7\n",
      "Введите оценку: 8\n",
      "Введите оценку: 6\n",
      "Введите оценку: 5\n",
      "NO\n"
     ]
    }
   ],
   "source": [
    "index_while = 0\n",
    "porog = 4 # порог сдачи экзамена\n",
    "while index_while < 5:\n",
    "    grade = int(input(\"Введите оценку: \"))\n",
    "    if grade < porog:\n",
    "        print (\"YES\")\n",
    "        break\n",
    "    \n",
    "    index_while = index_while + 1\n",
    "        \n",
    "else:\n",
    "    print (\"NO\")"
   ]
  },
  {
   "cell_type": "markdown",
   "metadata": {
    "colab": {
     "base_uri": "https://localhost:8080/"
    },
    "id": "jYdoA8t1DJNX",
    "outputId": "2ee83093-c8d5-4c95-b368-8099a10bf834"
   },
   "source": [
    "###### Your code"
   ]
  },
  {
   "cell_type": "markdown",
   "metadata": {
    "id": "bYa2rKsDDJNY"
   },
   "source": [
    "Оператор **continue** позволяет сразу же перейти на новую итерацию цикла, не выполняя код, который написан внутри цикла ниже его."
   ]
  },
  {
   "cell_type": "markdown",
   "metadata": {},
   "source": [
    "## Task #3"
   ]
  },
  {
   "cell_type": "markdown",
   "metadata": {
    "id": "CrurAnrCDJNY"
   },
   "source": [
    "Изменим условие задачи - теперь будем считать количество пересдач у студента"
   ]
  },
  {
   "cell_type": "code",
   "execution_count": 53,
   "metadata": {
    "colab": {
     "base_uri": "https://localhost:8080/"
    },
    "id": "rlkdSkaaDJNZ",
    "outputId": "00d9994e-9c39-4e35-8518-0efb77619193"
   },
   "outputs": [
    {
     "name": "stdout",
     "output_type": "stream",
     "text": [
      "Введите оценку: 6\n",
      "Введите оценку: 7\n",
      "Введите оценку: 4\n",
      "Введите оценку: 3\n",
      "Введите оценку: 2\n",
      "2\n"
     ]
    }
   ],
   "source": [
    "index_while = 0\n",
    "porog = 4 # порог сдачи экзамена\n",
    "n_peres = 0 # сколько будет пересдач\n",
    "while index_while < 5:\n",
    "    grade = int(input(\"Введите оценку: \"))\n",
    "    if grade < porog:\n",
    "        n_peres = n_peres + 1\n",
    "      \n",
    "    index_while = index_while + 1\n",
    "        \n",
    "print (n_peres)"
   ]
  },
  {
   "cell_type": "code",
   "execution_count": 54,
   "metadata": {},
   "outputs": [
    {
     "name": "stdout",
     "output_type": "stream",
     "text": [
      "6\n",
      "4\n",
      "5\n",
      "6\n",
      "2\n",
      "3\n",
      "8\n",
      "stop\n"
     ]
    }
   ],
   "source": [
    "while True:\n",
    "    x = input()\n",
    "    if x == 'stop':\n",
    "        break"
   ]
  },
  {
   "cell_type": "markdown",
   "metadata": {
    "id": "lRluYab0DJNc"
   },
   "source": [
    "##  Task #4\n",
    "Вася начал бегать и в первый день он пробежал `X` километров и выдохся. Вася поставил себе цель `Y` километров и решил узнать, когда он ее достигнет, если каждый день будет бегать дистанцию на 10% больше, чем в предыдущий.\n",
    "\n",
    "**Формат ввода**\n",
    "\n",
    "Программа получает на вход целые числа `X`, `Y`\n",
    "\n",
    "**Формат вывода**\n",
    "\n",
    "Одно целое число (день, когда Вася пробежит свою цель)\n",
    "\n",
    "**Примеры**  \n",
    "**Ввод:**  \n",
    "10  \n",
    "21\n",
    "\n",
    "**Вывод:**  \n",
    "9"
   ]
  },
  {
   "cell_type": "code",
   "execution_count": 98,
   "metadata": {
    "colab": {
     "base_uri": "https://localhost:8080/"
    },
    "id": "U2Yqn9LADJNd",
    "outputId": "f2d46677-717b-4bca-c91a-9d4ec40d32b1"
   },
   "outputs": [
    {
     "name": "stdout",
     "output_type": "stream",
     "text": [
      "Введите целое число: 10\n",
      "Введите целое число больше предыдущего: 21\n",
      "9\n"
     ]
    }
   ],
   "source": [
    "X = int(input(\"Введите целое число: \"))\n",
    "Y = int(input(\"Введите целое число больше предыдущего: \"))\n",
    "\n",
    "n=1\n",
    "\n",
    "while X<Y:\n",
    "    n=n+1\n",
    "    X=X*1.1\n",
    "    \n",
    "print (n)\n"
   ]
  },
  {
   "cell_type": "markdown",
   "metadata": {
    "id": "MvErnJPFDJNe"
   },
   "source": [
    "## Task #5\n",
    "\n",
    "## Cложные проценты\n",
    "Процентная ставка по вкладу составляет `P` процентов годовых, которые прибавляются к сумме вклада через год. Вклад составляет `X` рублей `Y` копеек. Дробное число копеек по истечении года отбрасывается. `K` - количество лет, на которые положен вклад. Выведите величину вклада в рублях\n",
    "\n",
    "**Формат ввода**\n",
    "\n",
    "Программа получает на вход целые числа `P`, `X`, `Y`, `K`.\n",
    "\n",
    "**Формат вывода**\n",
    "\n",
    "Программа должна вывести два числа: величину вклада через `K` лет в рублях и копейках. Перерасчет суммы вклада (с отбрасыванием дробных частей копеек) происходит ежегодно.\n",
    "\n",
    "**Примеры**  \n",
    "Тест 1  \n",
    "**Входные данные:**  \n",
    "12  \n",
    "179  \n",
    "0  \n",
    "5  \n",
    "\n",
    "**Вывод программы:**  \n",
    "315 43\n",
    "\n",
    "Тест 2  \n",
    "**Входные данные:**  \n",
    "13  \n",
    "179  \n",
    "0  \n",
    "100  \n",
    "\n",
    "**Вывод программы:**   \n",
    "36360285 50\n",
    "\n",
    "Тест 3  \n",
    "**Входные данные:**   \n",
    "1  \n",
    "1  \n",
    "0  \n",
    "1000  \n",
    "\n",
    "**Вывод программы:**  \n",
    "11881 92"
   ]
  },
  {
   "cell_type": "code",
   "execution_count": null,
   "metadata": {},
   "outputs": [],
   "source": []
  },
  {
   "cell_type": "markdown",
   "metadata": {},
   "source": [
    "## Task #6\n",
    "\n",
    "Write a Python program to get the Fibonacci series between `0` to `50`.\n",
    "\n",
    "Note: The Fibonacci Sequence is the series of numbers:\n",
    "\n",
    "`0, 1, 1, 2, 3, 5, 8, 13, 21, ....`\n",
    "\n",
    "\n",
    "Every next number is found by adding up the two numbers before it.\n",
    "\n",
    "Input: `8`\n",
    "\n",
    "Expected Output : `21`"
   ]
  },
  {
   "cell_type": "code",
   "execution_count": 99,
   "metadata": {},
   "outputs": [
    {
     "name": "stdout",
     "output_type": "stream",
     "text": [
      "8\n",
      "21\n"
     ]
    }
   ],
   "source": [
    "n_number = int(input())\n",
    "\n",
    "number_before = 0\n",
    "number_current = 1\n",
    "\n",
    "index = 1\n",
    "while index < n_number:\n",
    "    number_before, number_current = number_current, number_before + number_current\n",
    "    index = index + 1\n",
    "\n",
    "print(number_current)"
   ]
  },
  {
   "cell_type": "markdown",
   "metadata": {
    "colab": {
     "base_uri": "https://localhost:8080/"
    },
    "id": "KIYLXgJNDJNe",
    "outputId": "80e1f45b-acbe-436a-9ff0-a25f4bf2bcf4"
   },
   "source": [
    " # Home tasks"
   ]
  },
  {
   "cell_type": "markdown",
   "metadata": {},
   "source": [
    "## Task #1\n",
    "Write a Python program to find those numbers which are divisible by `7` and multiple of `5`, between `1500` and `2700` (both included)."
   ]
  },
  {
   "cell_type": "code",
   "execution_count": 68,
   "metadata": {},
   "outputs": [
    {
     "name": "stdout",
     "output_type": "stream",
     "text": [
      "1505\n",
      "1540\n",
      "1575\n",
      "1610\n",
      "1645\n",
      "1680\n",
      "1715\n",
      "1750\n",
      "1785\n",
      "1820\n",
      "1855\n",
      "1890\n",
      "1925\n",
      "1960\n",
      "1995\n",
      "2030\n",
      "2065\n",
      "2100\n",
      "2135\n",
      "2170\n",
      "2205\n",
      "2240\n",
      "2275\n",
      "2310\n",
      "2345\n",
      "2380\n",
      "2415\n",
      "2450\n",
      "2485\n",
      "2520\n",
      "2555\n",
      "2590\n",
      "2625\n",
      "2660\n",
      "2695\n"
     ]
    }
   ],
   "source": [
    "# делали на паре//\n",
    "# найти числа которые делятся на 7 и делятся на 5, между 1500 и 2700 включительно\n",
    "\n",
    "i = 1500\n",
    "while i >=1500 and i <=2700:\n",
    "    if i % 7 == 0 and i % 5 == 0:\n",
    "        print (i)\n",
    "    i = i + 1"
   ]
  },
  {
   "cell_type": "markdown",
   "metadata": {},
   "source": [
    "## Task #2\n",
    "Write a Python program to construct the following pattern, using a nested for loop."
   ]
  },
  {
   "cell_type": "code",
   "execution_count": 6,
   "metadata": {},
   "outputs": [],
   "source": [
    "# * \n",
    "# * * \n",
    "# * * * \n",
    "# * * * * \n",
    "# * * * * * \n",
    "# * * * * \n",
    "# * * * \n",
    "# * * \n",
    "# *"
   ]
  },
  {
   "cell_type": "code",
   "execution_count": 86,
   "metadata": {},
   "outputs": [
    {
     "name": "stdout",
     "output_type": "stream",
     "text": [
      "* \n",
      "* * \n",
      "* * * \n",
      "* * * * \n",
      "* * * * * \n",
      "* * * * \n",
      "* * * \n",
      "* * \n",
      "* \n",
      "\n"
     ]
    }
   ],
   "source": [
    "# делали на паре//\n",
    "# здесь 9 итераций, значит надо дать ограничение от 0 до 9\n",
    "# а потом надо сделать условие на середине, типо а теперь удаляй обратно\n",
    "\n",
    "i = 0\n",
    "\n",
    "while i<5:\n",
    "    i = i + 1\n",
    "    b = \"* \" * i\n",
    "    print (b)\n",
    "\n",
    "    \n",
    "while i>0:\n",
    "    i = i - 1\n",
    "    b = \"* \" * i\n",
    "    print (b)"
   ]
  },
  {
   "cell_type": "code",
   "execution_count": 81,
   "metadata": {},
   "outputs": [
    {
     "name": "stdout",
     "output_type": "stream",
     "text": [
      "*\n",
      "**\n",
      "***\n",
      "**\n",
      "*\n"
     ]
    }
   ],
   "source": [
    "# как мы это все рисуем :!! i растет а потом уменьшается (это тип чтобы посмотреть и понять)\n",
    "\n",
    "print ('*' * 1)\n",
    "print ('*' * 2)\n",
    "print ('*' * 3)\n",
    "print ('*' * 2)\n",
    "print ('*' * 1)"
   ]
  },
  {
   "cell_type": "code",
   "execution_count": 94,
   "metadata": {},
   "outputs": [
    {
     "name": "stdout",
     "output_type": "stream",
     "text": [
      "# * \n",
      "# * * \n",
      "# * * * \n",
      "# * * * * \n",
      "# * * * * * \n",
      "# * * * * \n",
      "# * * * \n",
      "# * * \n",
      "# * \n"
     ]
    }
   ],
   "source": [
    "# а теперь добавим решетки\n",
    "\n",
    "i = 0\n",
    "\n",
    "while i<5:\n",
    "    i = i + 1\n",
    "    b = \"* \" * i\n",
    "    print (\"#\", b)\n",
    "\n",
    "    \n",
    "while i>1:\n",
    "    i = i - 1\n",
    "    b = \"* \" * i\n",
    "    if b:\n",
    "        print (\"#\", b)\n",
    "        \n",
    "# что произошло внизу - сначала лишняя решетка была внизу где была пустота.\n",
    "# почему-то там печатается лишняя решетка - потому что в цикле происходит больше итераций, чем мы планируем.\n",
    "# это можно поправить более корректно (а не просто иф б), если написать i > 1"
   ]
  },
  {
   "cell_type": "markdown",
   "metadata": {},
   "source": [
    "## Task #3 "
   ]
  },
  {
   "cell_type": "markdown",
   "metadata": {},
   "source": [
    "Write a Python program that prints all the numbers from `0` to `6` except `3` and `6`.\n",
    "\n",
    "Note : Use `continue` statement."
   ]
  },
  {
   "cell_type": "code",
   "execution_count": 103,
   "metadata": {},
   "outputs": [
    {
     "name": "stdout",
     "output_type": "stream",
     "text": [
      "0\n",
      "1\n",
      "2\n",
      "4\n",
      "5\n"
     ]
    }
   ],
   "source": [
    "x = -1\n",
    "\n",
    "while x < 6:\n",
    "        x = x + 1\n",
    "        if x == 3 or x == 6:\n",
    "            continue\n",
    "        print (x)"
   ]
  },
  {
   "cell_type": "markdown",
   "metadata": {},
   "source": [
    "## Task #4 \n",
    "Write a Python program to check a triangle is equilateral, isosceles or scalene.\n",
    "\n",
    "Note :\n",
    "* An equilateral triangle is a triangle in which all three sides are equal.\n",
    "* A scalene triangle is a triangle that has three unequal sides.\n",
    "* An isosceles triangle is a triangle with (at least) two equal sides.\n",
    "\n",
    "\n",
    "Expected Output:\n",
    "\n",
    "`Input lengths of the triangle sides:`                                    \n",
    "`x: 6`                                                                    \n",
    "`y: 8`                                                                    \n",
    "`z: 12`                                                                   \n",
    "`Scalene triangle` \n"
   ]
  },
  {
   "cell_type": "code",
   "execution_count": 107,
   "metadata": {},
   "outputs": [
    {
     "name": "stdout",
     "output_type": "stream",
     "text": [
      "x: 4\n",
      "y: 5\n",
      "z: 6\n",
      "Scalene triangle\n"
     ]
    }
   ],
   "source": [
    "x = int(input(\"x: \"))\n",
    "y = int(input(\"y: \"))\n",
    "z = int(input(\"z: \"))\n",
    "\n",
    "if x == y == z:\n",
    "    print (\"Equilateral triangle\")\n",
    "elif (x == y) or (y == z) or (x == z):\n",
    "    print (\"Isosceles triangle\")\n",
    "else:\n",
    "    print (\"Scalene triangle\")"
   ]
  },
  {
   "cell_type": "markdown",
   "metadata": {},
   "source": [
    "## Task #5\n"
   ]
  },
  {
   "cell_type": "markdown",
   "metadata": {},
   "source": [
    "Write a Python program to get next day of a given date.\n",
    "\n",
    "Expected Output:\n",
    "\n",
    "`Input a year: 2016`                                                     \n",
    "`Input a month [1-12]: 08`                                           \n",
    "`Input a day [1-31]: 23`                                                  \n",
    "`The next date is [yyyy-mm-dd] 2016-8-24`  "
   ]
  },
  {
   "cell_type": "code",
   "execution_count": 1,
   "metadata": {},
   "outputs": [
    {
     "name": "stdout",
     "output_type": "stream",
     "text": [
      "Input a year: 1989\n",
      "Input a month [1-12]: 12\n",
      "Input a day [1-31]: 31\n",
      "The next day is [ 1990 - 1 - 1 ]\n"
     ]
    }
   ],
   "source": [
    "x = int(input(\"Input a year: \"))\n",
    "y = int(input(\"Input a month [1-12]: \"))\n",
    "z = int(input(\"Input a day [1-31]: \"))\n",
    "\n",
    "if ((x%4!=0) and ((y==1 and z==31) or (y==2 and z==28) or (y==3 and z==31) or (y==4 and z==30) or (y==5 and z==31) or (y==6 and z==30) or (y==7 and z==31) or (y==8 and z==31) or (y==9 and z==30) or (y==10 and z==31) or (y==11 and z==30))) or ((x%4==0) and ((y==1 and z==31) or (y==2 and z==29) or (y==3 and z==31) or (y==4 and z==30) or (y==5 and z==31) or (y==6 and z==30) or (y==7 and z==31) or (y==8 and z==31) or (y==9 and z==30) or (y==10 and z==31) or (y==11 and z==30))):\n",
    "    print (\"The next day is [\", x, \"-\", int(y+1), \"-\", int(1), \"]\")\n",
    "elif y==12 and z==31:\n",
    "    print (\"The next day is [\", int(x+1), \"-\", int(1), \"-\", int(1), \"]\")\n",
    "else:\n",
    "    print (\"The next day is [\", x, \"-\", y, \"-\", int(z+1), \"]\")"
   ]
  }
 ],
 "metadata": {
  "colab": {
   "collapsed_sections": [],
   "name": "If_Else.ipynb",
   "provenance": []
  },
  "kernelspec": {
   "display_name": "Python 3 (ipykernel)",
   "language": "python",
   "name": "python3"
  },
  "language_info": {
   "codemirror_mode": {
    "name": "ipython",
    "version": 3
   },
   "file_extension": ".py",
   "mimetype": "text/x-python",
   "name": "python",
   "nbconvert_exporter": "python",
   "pygments_lexer": "ipython3",
   "version": "3.9.12"
  }
 },
 "nbformat": 4,
 "nbformat_minor": 1
}
