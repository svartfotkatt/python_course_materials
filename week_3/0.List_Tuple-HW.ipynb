{
 "cells": [
  {
   "cell_type": "markdown",
   "metadata": {
    "id": "4FQBO2qDBez_"
   },
   "source": [
    "\n",
    "## Последовательности: списки и кортежи"
   ]
  },
  {
   "cell_type": "markdown",
   "metadata": {
    "id": "FtNMQccXBe0A"
   },
   "source": [
    "# Списки (`list`)"
   ]
  },
  {
   "cell_type": "markdown",
   "metadata": {
    "id": "nqQNJTk0Be0B"
   },
   "source": [
    "Давайте представим, что при написании программы нам нужно работать, например, с большой базой данных студентов университета.\n",
    "\n",
    "Если студентов несколько сотен, нет смысла создавать для каждого отдельную переменную - нам нужно научиться сохранять их всех в одной переменной. Начиная с этого занятия, мы будем изучать типы данных, которые позволяют это делать."
   ]
  },
  {
   "cell_type": "markdown",
   "metadata": {
    "id": "kvRPj-iiBe0B"
   },
   "source": [
    "Начнем мы со **списков**. Если вы изучали другие языки программирования, то наверняка знакомы с аналогичным типом данных - массивами. Как и строки, списки - это последовательности, упорядоченные данные.\n",
    "\n",
    "Давайте для начала попробуем создать список из 3 студентов."
   ]
  },
  {
   "cell_type": "code",
   "execution_count": null,
   "metadata": {
    "colab": {
     "base_uri": "https://localhost:8080/"
    },
    "id": "8WhxN0HFBe0C",
    "outputId": "371a6228-c222-4245-c0f1-2852f6b37551"
   },
   "outputs": [
    {
     "name": "stdout",
     "output_type": "stream",
     "text": [
      "['Ivan Ivanov', 'Tatiana Sidorova', 'Maria Smirnova']\n",
      "<class 'list'>\n"
     ]
    }
   ],
   "source": [
    "students = ['Ivan Ivanov', 'Tatiana Sidorova', 'Maria Smirnova']\n",
    "print(students)\n",
    "print(type(students))"
   ]
  },
  {
   "cell_type": "code",
   "execution_count": 3,
   "metadata": {},
   "outputs": [],
   "source": [
    "# пустого значения у интегера не бывает. как и узначения с плавающей запятой. а у строки может быть:\n",
    "\"\"\n",
    "# у списка тоже есть такая возможность"
   ]
  },
  {
   "cell_type": "code",
   "execution_count": 4,
   "metadata": {},
   "outputs": [],
   "source": [
    "a=[]\n",
    "a=list()\n",
    "# это одинаковые вещи\n",
    "# список может содержать разнородные данные"
   ]
  },
  {
   "cell_type": "markdown",
   "metadata": {
    "id": "t641_wPzBe0C"
   },
   "source": [
    "Пустой список можно создать двумя способами - оператором `[]` и функцией `list()`."
   ]
  },
  {
   "cell_type": "code",
   "execution_count": null,
   "metadata": {
    "id": "TGV-YrCKBe0D",
    "outputId": "abb09b08-316e-4cdd-b23e-526440c5f95d"
   },
   "outputs": [
    {
     "name": "stdout",
     "output_type": "stream",
     "text": [
      "[]\n",
      "[]\n"
     ]
    }
   ],
   "source": [
    "print([])\n",
    "print(list())"
   ]
  },
  {
   "cell_type": "code",
   "execution_count": null,
   "metadata": {
    "colab": {
     "base_uri": "https://localhost:8080/"
    },
    "id": "aQ6K5_fJBe0D",
    "outputId": "61c9fbbb-05a9-4f45-9633-d2916e054d0e"
   },
   "outputs": [
    {
     "data": {
      "text/plain": [
       "[]"
      ]
     },
     "execution_count": 2,
     "metadata": {},
     "output_type": "execute_result"
    }
   ],
   "source": [
    "a = list()\n",
    "a"
   ]
  },
  {
   "cell_type": "markdown",
   "metadata": {
    "id": "alh6iPUHBe0E"
   },
   "source": [
    "Список может содержать любые данные - например, числа.  \n",
    "Давайте создадим список оценок студента."
   ]
  },
  {
   "cell_type": "code",
   "execution_count": null,
   "metadata": {
    "colab": {
     "base_uri": "https://localhost:8080/"
    },
    "id": "uWzEOYLTBe0E",
    "outputId": "ace73c07-65fa-4c23-81d1-c9b32063a8db"
   },
   "outputs": [
    {
     "name": "stdout",
     "output_type": "stream",
     "text": [
      "[6, 5, 7, 5, 8]\n"
     ]
    }
   ],
   "source": [
    "notes = [6, 5, 7, 5, 8]\n",
    "print(notes)"
   ]
  },
  {
   "cell_type": "markdown",
   "metadata": {
    "id": "r4bI5yZeBe0F"
   },
   "source": [
    "Список может быть даже смешанным. Например, давайте сохраним в одном списке имя студента, его год рождения, средний балл, и логическую переменную, которая будет равна True, если студент учится на бюджете."
   ]
  },
  {
   "cell_type": "code",
   "execution_count": null,
   "metadata": {
    "colab": {
     "base_uri": "https://localhost:8080/"
    },
    "id": "RHd0AymOBe0F",
    "outputId": "9c957890-aec5-4ea7-8039-037f1267a343"
   },
   "outputs": [
    {
     "name": "stdout",
     "output_type": "stream",
     "text": [
      "['Ivan Ivanov', 1987, 7.5, True]\n"
     ]
    }
   ],
   "source": [
    "student1 = ['Ivan Ivanov', 1987, 7.5, True]\n",
    "print(student1)"
   ]
  },
  {
   "cell_type": "markdown",
   "metadata": {
    "id": "9dpzHrtYBe0G"
   },
   "source": [
    "Список может даже содержать другие списки.  \n",
    "Давайте создадим еще одного студента по аналогии со student1 и положим этих двух студентов в еще один список."
   ]
  },
  {
   "cell_type": "code",
   "execution_count": null,
   "metadata": {
    "id": "8k2Zys5-Be0G",
    "outputId": "4260b4a8-c60e-4590-8b0b-4fd013d95915"
   },
   "outputs": [
    {
     "name": "stdout",
     "output_type": "stream",
     "text": [
      "[['Ivan Ivanov', 1987, 7.5, True], ['Maria Smirnova', 1991, 7.9, False]]\n"
     ]
    }
   ],
   "source": [
    "student2 = ['Maria Smirnova', 1991, 7.9, False]\n",
    "students = [student1, student2]\n",
    "print(students)"
   ]
  },
  {
   "cell_type": "markdown",
   "metadata": {
    "id": "pLH8S5MMBe0H"
   },
   "source": [
    "Элементы списков нумеруются, начиная с `0`. Мы можем получить доступ к элементу списка по его индексу."
   ]
  },
  {
   "cell_type": "code",
   "execution_count": 13,
   "metadata": {
    "colab": {
     "base_uri": "https://localhost:8080/"
    },
    "id": "Xyy0HJByBe0H",
    "outputId": "ecffcb39-7053-40e5-8d13-f42a2ae72cda"
   },
   "outputs": [
    {
     "name": "stdout",
     "output_type": "stream",
     "text": [
      "Ivan Ivanov\n",
      "Tatiana Sidorova\n",
      "Tatiana Sidorova\n"
     ]
    }
   ],
   "source": [
    "students = ['Ivan Ivanov', 'Tatiana Sidorova', 'Maria Smirnova']\n",
    "print(students[0]) # первый элемент\n",
    "print(students[1]) # второй элемент\n",
    "print(students[-2]) # последний элемент"
   ]
  },
  {
   "cell_type": "code",
   "execution_count": 5,
   "metadata": {},
   "outputs": [
    {
     "ename": "NameError",
     "evalue": "name 'students' is not defined",
     "output_type": "error",
     "traceback": [
      "\u001b[1;31m---------------------------------------------------------------------------\u001b[0m",
      "\u001b[1;31mNameError\u001b[0m                                 Traceback (most recent call last)",
      "Input \u001b[1;32mIn [5]\u001b[0m, in \u001b[0;36m<cell line: 1>\u001b[1;34m()\u001b[0m\n\u001b[1;32m----> 1\u001b[0m \u001b[38;5;28mprint\u001b[39m(\u001b[43mstudents\u001b[49m[\u001b[38;5;241m0\u001b[39m])\n\u001b[0;32m      2\u001b[0m \u001b[38;5;28mprint\u001b[39m(students[\u001b[38;5;124m'\u001b[39m\u001b[38;5;124mIvan Ivanov\u001b[39m\u001b[38;5;124m'\u001b[39m])\n",
      "\u001b[1;31mNameError\u001b[0m: name 'students' is not defined"
     ]
    }
   ],
   "source": [
    "print(students[0])\n",
    "print(students['Ivan Ivanov']) # вторая строчка не исполнится, тк к элементу внутри списка можно обращаться ток по индексу"
   ]
  },
  {
   "cell_type": "markdown",
   "metadata": {
    "id": "Ssc53K6vBe0I"
   },
   "source": [
    "Ксати, индексация работает и в строках. Там отдельными элементами являются символы.\n"
   ]
  },
  {
   "cell_type": "code",
   "execution_count": 11,
   "metadata": {
    "colab": {
     "base_uri": "https://localhost:8080/"
    },
    "id": "NMMKgw_zBe0J",
    "outputId": "e0e1b95c-eb29-40f8-9ee5-13a252da9352"
   },
   "outputs": [
    {
     "name": "stdout",
     "output_type": "stream",
     "text": [
      "с а и\n"
     ]
    }
   ],
   "source": [
    "x = 'слово и буква'\n",
    "print(x[0], x[-1], x[6])\n",
    "# если с плюсом - то это слева направо. а если с минусом - то справа налево идет нумерация символов\n",
    "# если задать значение больше - например 50 - то будет аут оф рендж и выпадет ошибка"
   ]
  },
  {
   "cell_type": "markdown",
   "metadata": {
    "id": "bgwALnJ2Be0J"
   },
   "source": [
    "Мы можем узнать длину списка с помощью функции len() (работает и для строк)."
   ]
  },
  {
   "cell_type": "code",
   "execution_count": 14,
   "metadata": {
    "colab": {
     "base_uri": "https://localhost:8080/"
    },
    "id": "vWIpoKP2Be0K",
    "outputId": "9e5e2852-cb68-4a7e-a06b-5f3cb4c31170"
   },
   "outputs": [
    {
     "name": "stdout",
     "output_type": "stream",
     "text": [
      "3\n",
      "13\n"
     ]
    }
   ],
   "source": [
    "print(len(students)) # количество элементов в списке students\n",
    "print(len(x)) # количество символов в строке x"
   ]
  },
  {
   "cell_type": "markdown",
   "metadata": {
    "id": "-c1Twg5WBe0K"
   },
   "source": [
    "Но, в отличие от строк, список можно изменить."
   ]
  },
  {
   "cell_type": "code",
   "execution_count": null,
   "metadata": {
    "colab": {
     "base_uri": "https://localhost:8080/"
    },
    "id": "jVwVxcTwBe0K",
    "outputId": "f1a0c4e9-fcf5-4cca-8e43-6e043f4e6de0"
   },
   "outputs": [
    {
     "data": {
      "text/plain": [
       "['Ivan Ivanov', 'Tatiana Sidorova', 'Maria Smirnova']"
      ]
     },
     "execution_count": 9,
     "metadata": {},
     "output_type": "execute_result"
    }
   ],
   "source": [
    "students = ['Ivan Ivanov', 'Tatiana Sidorova', 'Maria Smirnova']\n",
    "students"
   ]
  },
  {
   "cell_type": "code",
   "execution_count": 15,
   "metadata": {},
   "outputs": [
    {
     "data": {
      "text/plain": [
       "'Ivan Ivanov'"
      ]
     },
     "execution_count": 15,
     "metadata": {},
     "output_type": "execute_result"
    }
   ],
   "source": [
    "students[0]"
   ]
  },
  {
   "cell_type": "code",
   "execution_count": 16,
   "metadata": {
    "colab": {
     "base_uri": "https://localhost:8080/"
    },
    "id": "cPk_LhhtBe0L",
    "outputId": "a2e7cca5-f90c-4123-d1bd-76061d069881"
   },
   "outputs": [
    {
     "data": {
      "text/plain": [
       "['Ian Pile', 'Tatiana Sidorova', 'Maria Smirnova']"
      ]
     },
     "execution_count": 16,
     "metadata": {},
     "output_type": "execute_result"
    }
   ],
   "source": [
    "students[0] = 'Ian Pile'\n",
    "students\n",
    "# а теперь тут будет другое значение, и дальше оно тоже другое тк мы его поменяли"
   ]
  },
  {
   "cell_type": "code",
   "execution_count": null,
   "metadata": {
    "colab": {
     "base_uri": "https://localhost:8080/",
     "height": 181
    },
    "id": "SwHlU_14Be0L",
    "outputId": "c61ae9fb-14cb-44a5-d1ba-d28f7bb4b0a1"
   },
   "outputs": [
    {
     "ename": "TypeError",
     "evalue": "ignored",
     "output_type": "error",
     "traceback": [
      "\u001b[0;31m---------------------------------------------------------------------------\u001b[0m",
      "\u001b[0;31mTypeError\u001b[0m                                 Traceback (most recent call last)",
      "\u001b[0;32m<ipython-input-11-df9ce360ea44>\u001b[0m in \u001b[0;36m<module>\u001b[0;34m()\u001b[0m\n\u001b[1;32m      1\u001b[0m \u001b[0mstring\u001b[0m \u001b[0;34m=\u001b[0m \u001b[0;34m'ololololol'\u001b[0m\u001b[0;34m\u001b[0m\u001b[0;34m\u001b[0m\u001b[0m\n\u001b[0;32m----> 2\u001b[0;31m \u001b[0mstring\u001b[0m\u001b[0;34m[\u001b[0m\u001b[0;36m1\u001b[0m\u001b[0;34m]\u001b[0m \u001b[0;34m=\u001b[0m \u001b[0;34m'a'\u001b[0m\u001b[0;34m\u001b[0m\u001b[0;34m\u001b[0m\u001b[0m\n\u001b[0m",
      "\u001b[0;31mTypeError\u001b[0m: 'str' object does not support item assignment"
     ]
    }
   ],
   "source": [
    "string = 'ololololol'\n",
    "string[1] = 'a'"
   ]
  },
  {
   "cell_type": "markdown",
   "metadata": {
    "id": "Uj_k5B3HBe0M"
   },
   "source": [
    "Строки - неизменяемый тип данных, поэтому присвоение символа по индексу не сработает.\n",
    "\n",
    "Еще одна операция, которая работает со всеми последовательностями - проверка на наличие элемента `in` и `not in`. Возвращает `True` или `False`."
   ]
  },
  {
   "cell_type": "code",
   "execution_count": 17,
   "metadata": {},
   "outputs": [
    {
     "name": "stdout",
     "output_type": "stream",
     "text": [
      "False\n"
     ]
    }
   ],
   "source": [
    "students = ['Ivan Ivanov', 'Tatiana Sidorova', 'Maria Smirnova']\n",
    "print('Ivan Ivanov' not in students) # Иван иванов вообще есть в студентах?"
   ]
  },
  {
   "cell_type": "code",
   "execution_count": 18,
   "metadata": {},
   "outputs": [
    {
     "data": {
      "text/plain": [
       "True"
      ]
     },
     "execution_count": 18,
     "metadata": {},
     "output_type": "execute_result"
    }
   ],
   "source": [
    "'ab' in 'aabb' # со строками тоже работает. это про объектное ориентирование в программировании"
   ]
  },
  {
   "cell_type": "code",
   "execution_count": 19,
   "metadata": {
    "colab": {
     "base_uri": "https://localhost:8080/"
    },
    "id": "rw9VEyl3Be0M",
    "outputId": "7b2d47b6-d838-487d-a5b9-04c71870000d"
   },
   "outputs": [
    {
     "data": {
      "text/plain": [
       "True"
      ]
     },
     "execution_count": 19,
     "metadata": {},
     "output_type": "execute_result"
    }
   ],
   "source": [
    "n = [1,2,3,4]\n",
    "x = 500\n",
    "x not in n\n",
    "# print('Petr' not in students[2])\n",
    "# print(2 in students)"
   ]
  },
  {
   "cell_type": "markdown",
   "metadata": {
    "id": "ZKaxDJoKBe0M"
   },
   "source": [
    "Способ расширить список - метод `.append()`, который добавляет аргумент в список в качестве последнего элемента."
   ]
  },
  {
   "cell_type": "code",
   "execution_count": 20,
   "metadata": {},
   "outputs": [
    {
     "data": {
      "text/plain": [
       "'abbb'"
      ]
     },
     "execution_count": 20,
     "metadata": {},
     "output_type": "execute_result"
    }
   ],
   "source": [
    "a ='a'\n",
    "\n",
    "a+='bbb'\n",
    "\n",
    "a"
   ]
  },
  {
   "cell_type": "code",
   "execution_count": 21,
   "metadata": {
    "colab": {
     "base_uri": "https://localhost:8080/"
    },
    "id": "ng_ffvXaBe0M",
    "outputId": "4ac49c9a-67b5-4872-abe4-02eea738477e"
   },
   "outputs": [
    {
     "name": "stdout",
     "output_type": "stream",
     "text": [
      "[0, 1, 2, 3, 4, 'cat', 'dog', 'cat', 5]\n",
      "[0, 1, 2, 3, 4, 'cat', 'dog', 'cat', 5, 6]\n"
     ]
    }
   ],
   "source": [
    "lst = [0, 1, 2, 3, 4, 'cat', 'dog','cat']\n",
    "\n",
    "lst.append(5) # здесь я именно объект добавляю к списку\n",
    "print(lst)\n",
    "\n",
    "\n",
    "lst += [6] # эквивалентное append выражение. но здесь сначала объект кладу в список, а потом списки объединяю. лучше 1 вар\n",
    "print(lst)"
   ]
  },
  {
   "cell_type": "markdown",
   "metadata": {},
   "source": [
    "## Task #1"
   ]
  },
  {
   "cell_type": "markdown",
   "metadata": {},
   "source": [
    "Write a Python program to sum (*multiply) all int/float-items in a list. \n",
    "\n",
    "In: `[1, 2, 3, 4, 5, 'one', 'two']`\n",
    "\n",
    "Out: `15`"
   ]
  },
  {
   "cell_type": "code",
   "execution_count": 2,
   "metadata": {},
   "outputs": [
    {
     "name": "stdout",
     "output_type": "stream",
     "text": [
      "1\n",
      "2\n",
      "3\n",
      "4\n",
      "5\n",
      "\n",
      "15\n"
     ]
    }
   ],
   "source": [
    "#например\n",
    "\n",
    "color_list = [0.1,\"зеленый\", 1.6, \"белый\", 0.3, \"черный\", 7, \"2.0\"]\n",
    "sum = 0\n",
    "i = 0\n",
    "for i in color_list:\n",
    "    if type(i) == float:\n",
    "        sum += i\n",
    "        i=i+1\n",
    "        \n",
    "# решение:\n",
    "lst = [1, 2, 3, 4, 5, 'one', 'two']        \n",
    "\n",
    "i = 0\n",
    "\n",
    "sssum = 0\n",
    "\n",
    "len_list = 7 # это длина массива\n",
    "\n",
    "while i < len_list:\n",
    "    \n",
    "    element_list = lst[i]\n",
    "        \n",
    "    if type(element_list) == int or type(element_list) == float:\n",
    "        print(element_list)\n",
    "        sssum += element_list\n",
    "\n",
    "    i = i + 1\n",
    "\n",
    "print()\n",
    "print(sssum)"
   ]
  },
  {
   "cell_type": "markdown",
   "metadata": {},
   "source": [
    "## Task #2\n",
    "Write a Python program to remove duplicates from a list."
   ]
  },
  {
   "cell_type": "code",
   "execution_count": 2,
   "metadata": {},
   "outputs": [],
   "source": [
    "#написать программу, которая удаляет дубликаты из списка\n",
    "\n",
    "input_data = [1, 1, 3, 3, 4, 4]\n",
    "output_data = [1, 3, 4]"
   ]
  },
  {
   "cell_type": "code",
   "execution_count": 3,
   "metadata": {},
   "outputs": [
    {
     "name": "stdout",
     "output_type": "stream",
     "text": [
      "Index element 0, len of list: 6\n",
      "Index element 1, len of list: 6\n",
      "Index element 2, len of list: 6\n",
      "Index element 3, len of list: 6\n",
      "Index element 4, len of list: 6\n",
      "Index element 5, len of list: 6\n"
     ]
    },
    {
     "data": {
      "text/plain": [
       "[1, 3, 4]"
      ]
     },
     "execution_count": 3,
     "metadata": {},
     "output_type": "execute_result"
    }
   ],
   "source": [
    "lst = [1, 1, 3, 3, 4, 4]\n",
    "i=0\n",
    "output_data = []\n",
    "while i < len(input_data): # то есть цикл будет работать, пока i <= длины массива\n",
    "    print (f\"Index element {i}, len of list: {len(input_data)}\") #напишем это чтобы понимать че там происходит\n",
    "    #надо проверить есть ли элемент в списке. для этого его надо достать по индексу из массива\n",
    "    element = input_data[i] #надо проверить, что элемента нет в списке\n",
    "    not_found = element not in output_data\n",
    "    if not_found:\n",
    "        output_data.append(element)\n",
    "        \n",
    "    i+=1\n",
    "    \n",
    "output_data"
   ]
  },
  {
   "cell_type": "markdown",
   "metadata": {},
   "source": [
    "## Task #3\n",
    "Write a Python program to generate a `3*4*6` 3D array whose each element is `*`"
   ]
  },
  {
   "cell_type": "code",
   "execution_count": 5,
   "metadata": {},
   "outputs": [
    {
     "data": {
      "text/plain": [
       "[[[1], [1], [1], [1], [1]], [[2], [2], [2], [2], [2]]]"
      ]
     },
     "execution_count": 5,
     "metadata": {},
     "output_type": "execute_result"
    }
   ],
   "source": [
    "# у нас бывают таблицы. как задать таблицу в виде вложенных списков\n",
    "# в задаче надо сгенерировать массив из звездочек, он будет с 3 размерностями\n",
    "#это когда внутри этой таблицы, внутри первого вложенного списка например еще чето будет\n",
    "\n",
    "[\n",
    "    [[1], [1], [1], [1], [1]],\n",
    "    [[2], [2], [2], [2], [2]]\n",
    "\n",
    "]"
   ]
  },
  {
   "cell_type": "code",
   "execution_count": 12,
   "metadata": {},
   "outputs": [
    {
     "data": {
      "text/plain": [
       "[[['*', '*', '*', '*', '*', '*'],\n",
       "  ['*', '*', '*', '*', '*', '*'],\n",
       "  ['*', '*', '*', '*', '*', '*'],\n",
       "  ['*', '*', '*', '*', '*', '*']],\n",
       " [['*', '*', '*', '*', '*', '*'],\n",
       "  ['*', '*', '*', '*', '*', '*'],\n",
       "  ['*', '*', '*', '*', '*', '*'],\n",
       "  ['*', '*', '*', '*', '*', '*']],\n",
       " [['*', '*', '*', '*', '*', '*'],\n",
       "  ['*', '*', '*', '*', '*', '*'],\n",
       "  ['*', '*', '*', '*', '*', '*'],\n",
       "  ['*', '*', '*', '*', '*', '*']]]"
      ]
     },
     "execution_count": 12,
     "metadata": {},
     "output_type": "execute_result"
    }
   ],
   "source": [
    "# массивы тоже можно дублировать\n",
    "# добавляем 3 вложенности и * на 3, 4 и 6 - готово\n",
    "[[[\"*\"] * 6] * 4] * 3\n",
    "# так выглядит трехмерный массив - т.н. тензор трехмерный. многомерная матрица\n",
    "# она нужна в машинном обучении по большей части\n",
    "# тогда там вместо звездочек какие-то int или float"
   ]
  },
  {
   "cell_type": "markdown",
   "metadata": {},
   "source": [
    "## Task #4"
   ]
  },
  {
   "cell_type": "markdown",
   "metadata": {},
   "source": [
    "Write a Python program to change the position of every n-th value with the (n+1)th in a list. Go to the editor\n",
    "\n",
    "\n",
    "Sample list: `[0,1,2,3,4,5]`\n",
    "\n",
    "Expected Output: `[1, 0, 3, 2, 5, 4]`"
   ]
  },
  {
   "cell_type": "code",
   "execution_count": 14,
   "metadata": {},
   "outputs": [
    {
     "name": "stdout",
     "output_type": "stream",
     "text": [
      "0\n",
      "2\n",
      "4\n",
      "[1, 0, 3, 2, 5, 4]\n"
     ]
    }
   ],
   "source": [
    "#надо инвертировать типо поменять местами 0 и 1, 2 и 3 итд\n",
    "# нужно пройти по элементам в массиве (как в 1 задаче)\n",
    "# когда вы идете по эл-там в массиве - если номер эл-та четный,\n",
    "# то надо совершить какую то операцию, а в противном случае - ниче не совершать\n",
    "\n",
    "i=0\n",
    "input_data = [0, 1, 2, 3, 4, 5]\n",
    "\n",
    "\n",
    "while i < len(input_data):\n",
    "    print(i)\n",
    "\n",
    "    fisrt_el = input_data[i]\n",
    "    second_el= input_data [i+1]\n",
    "    \n",
    "    input_data[i] = second_el\n",
    "    input_data [i+1] = fisrt_el\n",
    "    i+=2\n",
    "        \n",
    "print (input_data)\n",
    "\n",
    "# if i==0 or i%2==0: - можно не писать, тк если у нас будет + 2 у индекса\n",
    "# то есть и так и так будет шаг через 1, то есть по четным"
   ]
  },
  {
   "cell_type": "code",
   "execution_count": 15,
   "metadata": {},
   "outputs": [
    {
     "name": "stdout",
     "output_type": "stream",
     "text": [
      "0\n",
      "1\n",
      "2\n",
      "3\n",
      "4\n",
      "5\n",
      "[1, 0, 3, 2, 5, 4]\n"
     ]
    }
   ],
   "source": [
    "# второй вариант решения: если шаг не 2, а 1\n",
    "\n",
    "i=0\n",
    "input_data = [0, 1, 2, 3, 4, 5]\n",
    "\n",
    "\n",
    "while i < len(input_data):\n",
    "    print(i)\n",
    "    \n",
    "    if i % 2 ==0:\n",
    "\n",
    "        fisrt_el = input_data[i]\n",
    "        second_el= input_data [i+1]\n",
    "\n",
    "        input_data[i] = second_el\n",
    "        input_data [i+1] = fisrt_el\n",
    "        \n",
    "        i+=1\n",
    "    \n",
    "    else:\n",
    "        i+=1\n",
    "        \n",
    "print (input_data)"
   ]
  },
  {
   "cell_type": "markdown",
   "metadata": {
    "id": "7RIOJAEdBe0N"
   },
   "source": [
    "Удалить элемент из списка можно с помощью метода `.remove()` (без возвращения удаленного элемента) или `.pop()` (с возвращением удаленного элемента)."
   ]
  },
  {
   "cell_type": "code",
   "execution_count": 19,
   "metadata": {
    "colab": {
     "base_uri": "https://localhost:8080/"
    },
    "id": "DghD9v5HBe0N",
    "outputId": "aa163ba6-537b-41ef-dbe1-afa06ecb752b"
   },
   "outputs": [
    {
     "name": "stdout",
     "output_type": "stream",
     "text": [
      "[0, 1, 2, 3, 4, 'dog', 5, 6]\n"
     ]
    }
   ],
   "source": [
    "lst = [0, 1, 2, 3, 4, 'dog', 'cat', 5, 6]\n",
    "\n",
    "lst.remove('cat') # аргумент - объект, который ходим удалить\n",
    "print(lst)"
   ]
  },
  {
   "cell_type": "code",
   "execution_count": 17,
   "metadata": {
    "colab": {
     "base_uri": "https://localhost:8080/"
    },
    "id": "W1clXBpJBe0O",
    "outputId": "ffaac318-4601-428f-d431-6eb6a986363d"
   },
   "outputs": [
    {
     "name": "stdout",
     "output_type": "stream",
     "text": [
      "[1, 2, 3, 4, 'dog', 5, 6]\n"
     ]
    }
   ],
   "source": [
    "lst.pop(0) # аргумент - индекс объекта. Результат операции можно сохранить в переменную\n",
    "print(lst)\n",
    "# с каждым выполнением этой команды, список будет сокращаться на 1\n",
    "# если ничего в аргумент не передать - lst.pop() - то поп удалит последний эл-т массива\n",
    "# если список закончился и стал пустым - поп не сработает тк нечего удалять"
   ]
  },
  {
   "cell_type": "markdown",
   "metadata": {
    "id": "OfpAbMuBBe0O"
   },
   "source": [
    "Поиском в списках занимается метод `.index()`, который вернет индекс объекта, переданного в качестве аргумента."
   ]
  },
  {
   "cell_type": "code",
   "execution_count": 25,
   "metadata": {
    "colab": {
     "base_uri": "https://localhost:8080/"
    },
    "id": "DtflmRL9Be0P",
    "outputId": "5638b897-87fc-42c5-a2e1-89897a245bd1"
   },
   "outputs": [
    {
     "data": {
      "text/plain": [
       "[0, 1, 2, 3, 4, 'dog', 5, 6, 'dog']"
      ]
     },
     "execution_count": 25,
     "metadata": {},
     "output_type": "execute_result"
    }
   ],
   "source": [
    "lst"
   ]
  },
  {
   "cell_type": "code",
   "execution_count": 26,
   "metadata": {
    "colab": {
     "base_uri": "https://localhost:8080/"
    },
    "id": "8BIJbL9rBe0P",
    "outputId": "52bf6199-c759-4dfd-a820-71bef1f28bf2"
   },
   "outputs": [
    {
     "name": "stdout",
     "output_type": "stream",
     "text": [
      "5\n"
     ]
    }
   ],
   "source": [
    "print(lst.index('dog')) # индекс возвращает номер первого вхождения"
   ]
  },
  {
   "cell_type": "code",
   "execution_count": 22,
   "metadata": {},
   "outputs": [],
   "source": [
    "lst.append(\"dog\")"
   ]
  },
  {
   "cell_type": "code",
   "execution_count": 27,
   "metadata": {
    "colab": {
     "base_uri": "https://localhost:8080/"
    },
    "id": "yZo9vQ4ABe0Q",
    "outputId": "df0f545c-d456-4afa-a2d4-04446bda242e"
   },
   "outputs": [
    {
     "name": "stdout",
     "output_type": "stream",
     "text": [
      "2\n"
     ]
    }
   ],
   "source": [
    "print(lst.count('dog')) # посчитать количество эл-тов в списке"
   ]
  },
  {
   "cell_type": "code",
   "execution_count": 28,
   "metadata": {},
   "outputs": [
    {
     "ename": "ValueError",
     "evalue": "'dog___' is not in list",
     "output_type": "error",
     "traceback": [
      "\u001b[1;31m---------------------------------------------------------------------------\u001b[0m",
      "\u001b[1;31mValueError\u001b[0m                                Traceback (most recent call last)",
      "Input \u001b[1;32mIn [28]\u001b[0m, in \u001b[0;36m<cell line: 1>\u001b[1;34m()\u001b[0m\n\u001b[1;32m----> 1\u001b[0m \u001b[38;5;28mprint\u001b[39m(\u001b[43mlst\u001b[49m\u001b[38;5;241;43m.\u001b[39;49m\u001b[43mindex\u001b[49m\u001b[43m(\u001b[49m\u001b[38;5;124;43m'\u001b[39;49m\u001b[38;5;124;43mdog___\u001b[39;49m\u001b[38;5;124;43m'\u001b[39;49m\u001b[43m)\u001b[49m)\n",
      "\u001b[1;31mValueError\u001b[0m: 'dog___' is not in list"
     ]
    }
   ],
   "source": [
    "print(lst.index('dog___')) # индекс эл-та, кот не сущ в списке - ошибка"
   ]
  },
  {
   "cell_type": "code",
   "execution_count": null,
   "metadata": {
    "colab": {
     "base_uri": "https://localhost:8080/"
    },
    "id": "BRpFq5_eBe0Q",
    "outputId": "18ca8ea0-76db-4955-d3e9-83ce0976cb99"
   },
   "outputs": [
    {
     "name": "stdout",
     "output_type": "stream",
     "text": [
      "dog\n"
     ]
    }
   ],
   "source": [
    "# находим индекс объекта 'dog'\n",
    "print(lst[lst.index('dog')]) # используем метод, возвращающий индекс, для обращения к объекту\n",
    "# узнаем индекс элемента в списке - потом узнал значение эл-та по индексу"
   ]
  },
  {
   "cell_type": "markdown",
   "metadata": {
    "id": "smA6ixBIBe0Q"
   },
   "source": [
    "Если говорить еще о полезных методах, то это `.count()`, который подсчитывает количество элементов и `.reverse()`, который разворачивает список. Ниже еще отдельно поговорим о сортировке."
   ]
  },
  {
   "cell_type": "code",
   "execution_count": null,
   "metadata": {
    "colab": {
     "base_uri": "https://localhost:8080/"
    },
    "id": "yrlvXWqhBe0Q",
    "outputId": "183e1cc5-16b8-4d17-d414-15ec6deb636f"
   },
   "outputs": [
    {
     "data": {
      "text/plain": [
       "[5, 4, 3, 2, 1]"
      ]
     },
     "execution_count": 29,
     "metadata": {},
     "output_type": "execute_result"
    }
   ],
   "source": [
    "b = [1,2,3,4,5]\n",
    "b.reverse()\n",
    "b"
   ]
  },
  {
   "cell_type": "code",
   "execution_count": null,
   "metadata": {
    "colab": {
     "base_uri": "https://localhost:8080/"
    },
    "id": "l56URsNaBe0R",
    "outputId": "587a72d8-ef04-4e9b-c267-c54512cc5c9d"
   },
   "outputs": [
    {
     "name": "stdout",
     "output_type": "stream",
     "text": [
      "['dog', 5, 'cat', 'dog', 4, 3, 2]\n"
     ]
    }
   ],
   "source": [
    " # считаем количество 'dog' в списке\n",
    "lst.reverse() # разворачиваем список. Осторожно - метод меняет список!\n",
    "print(lst)\n"
   ]
  },
  {
   "cell_type": "markdown",
   "metadata": {
    "id": "HYTNAD9wBe0R"
   },
   "source": [
    "Все методы списков [здесь](https://docs.python.org/3/tutorial/datastructures.html)"
   ]
  },
  {
   "cell_type": "markdown",
   "metadata": {
    "id": "0srlTH8LBe0R"
   },
   "source": [
    "### Сортировки"
   ]
  },
  {
   "cell_type": "markdown",
   "metadata": {
    "id": "KEo2N7hDBe0R"
   },
   "source": [
    "Отдельно следует рассказать про метод **`sort()`**. Метод производит сортировку списка.\n",
    "Задачи сортировки - очень распространены в программировании. \n",
    "В общем случае, они сводятся к выстроению элементов списка в заданном порядке.\n",
    "В `Python` есть встроенные методы для сортировки объектов для того, чтобы программист \n",
    "мог не усложнять себе задачу написанием алгоритма сортировки. \n",
    "Метод **`list.sort()`** - как раз, один из таких случаев."
   ]
  },
  {
   "cell_type": "code",
   "execution_count": 29,
   "metadata": {
    "colab": {
     "base_uri": "https://localhost:8080/"
    },
    "id": "sCcwXeroBe0S",
    "outputId": "666d2f0c-5bf7-4482-8f86-2acb64715830"
   },
   "outputs": [
    {
     "name": "stdout",
     "output_type": "stream",
     "text": [
      "[5, 8, 1, 4, 3, 7, 2]\n",
      "[1, 2, 3, 4, 5, 7, 8]\n"
     ]
    }
   ],
   "source": [
    "test_list = [5, 8, 1, 4, 3, 7, 2]\n",
    "print(test_list)  # Элементы списка расположены в хаотичном порядке\n",
    "test_list.sort()\n",
    "print(test_list)  # Теперь элементы списка теперь расположены по возрастанию\n",
    "# после применения сортировки - исходного списка нигде не хранится в памяти,\n",
    "# на его месте лежит его копия, но уже отсортированная\n",
    "# это называется сортировка in place. как бы просто заменяется\n",
    "# поэтому есть другие методы, которые позволяют делать эту сортировку не ин плейс\n",
    "# они дальше будут - позволяют держать в памяти обе копии"
   ]
  },
  {
   "cell_type": "code",
   "execution_count": 34,
   "metadata": {
    "id": "UspFt8ftBe0S"
   },
   "outputs": [],
   "source": [
    "test_list.sort(reverse = True) # чтобы развернуть - надо передать туда аргумент\n",
    "# аргумент реверс, и его значение - тру. по дефолту - реверс фолс\n",
    "\n",
    "# если в списке лежат строки - то сортировка будет по алфавиту\n",
    "# лексикографический порядок - он для букв, спецсимволов и чисел.\n",
    "#сначала символы, потом числа, потом буквы - причем по первому разряду"
   ]
  },
  {
   "cell_type": "code",
   "execution_count": 33,
   "metadata": {
    "colab": {
     "base_uri": "https://localhost:8080/"
    },
    "id": "Lwy_a2xIBe0S",
    "outputId": "29b6e3f8-6da0-40f9-d584-4fd5cc0931fc"
   },
   "outputs": [
    {
     "data": {
      "text/plain": [
       "[8, 7, 5, 4, 3, 2, 1]"
      ]
     },
     "execution_count": 33,
     "metadata": {},
     "output_type": "execute_result"
    }
   ],
   "source": [
    "test_list"
   ]
  },
  {
   "cell_type": "markdown",
   "metadata": {
    "id": "m3QQUg7MBe0T"
   },
   "source": [
    "Таким образом, метод **`list.sort()`** упорядочил элементы списка test_list\n",
    "Если нужно отсортировать элементы в обратном порядке, то можно использовать именнованный параметр reverse. "
   ]
  },
  {
   "cell_type": "code",
   "execution_count": null,
   "metadata": {
    "id": "o-PxLRAwBe0T",
    "outputId": "5abce23e-dc1b-4191-f4c8-3d7aa447d4ec"
   },
   "outputs": [
    {
     "name": "stdout",
     "output_type": "stream",
     "text": [
      "[8, 7, 5, 4, 3, 2, 1]\n"
     ]
    }
   ],
   "source": [
    "test_list.sort(reverse=True)  # параметр reverse указывает на то, что нужно отсортировать список в обратном порядке\n",
    "print(test_list)"
   ]
  },
  {
   "cell_type": "markdown",
   "metadata": {
    "id": "FmQM-f0MBe0T"
   },
   "source": [
    "Следует обратить внимание, что метод **`list.sort()`** изменяет сам список, на котором его вызвали. \n",
    "Таким образом, при каждом вызове метода \"**`sort()`**\", наш список `test_list` изменяется. \n",
    "Это может быть удобно, если нам не нужно держать в памяти исходный список. \n",
    "Однако, в противном случае, или же - в случае неизменяемого типа данных (например, кортежа или строки) - \n",
    "этот метод не сработает. В таком случае, на помощь приходит встроенная в питон функция **`sorted()`**"
   ]
  },
  {
   "cell_type": "code",
   "execution_count": null,
   "metadata": {},
   "outputs": [],
   "source": [
    "test_list = [8, 7, 4, 3, 5, 2, 1]"
   ]
  },
  {
   "cell_type": "code",
   "execution_count": 35,
   "metadata": {
    "colab": {
     "base_uri": "https://localhost:8080/"
    },
    "id": "0TXMD1VTBe0T",
    "outputId": "40c50baf-1d5c-45c3-a894-ea79299bc9fc"
   },
   "outputs": [
    {
     "name": "stdout",
     "output_type": "stream",
     "text": [
      "[1, 2, 3, 4, 5, 7, 8]\n"
     ]
    }
   ],
   "source": [
    "print(sorted(test_list))  # Сам список при сортировке не изменяется"
   ]
  },
  {
   "cell_type": "code",
   "execution_count": 36,
   "metadata": {
    "colab": {
     "base_uri": "https://localhost:8080/"
    },
    "id": "82ewTg2rBe0U",
    "outputId": "8a5f279d-9ae3-45e3-96fd-d86c0ba814ad"
   },
   "outputs": [
    {
     "data": {
      "text/plain": [
       "[8, 7, 5, 4, 3, 2, 1]"
      ]
     },
     "execution_count": 36,
     "metadata": {},
     "output_type": "execute_result"
    }
   ],
   "source": [
    "test_list # остался несортированным - то есть сортед работает не ин плейс"
   ]
  },
  {
   "cell_type": "code",
   "execution_count": 39,
   "metadata": {},
   "outputs": [
    {
     "name": "stdout",
     "output_type": "stream",
     "text": [
      "[1, 2, 3, 4, 5, 7, 8]\n"
     ]
    }
   ],
   "source": [
    "# можно записать его в какую то переменную\n",
    "test_test_list = sorted (test_list)\n",
    "print (test_test_list)"
   ]
  },
  {
   "cell_type": "markdown",
   "metadata": {
    "id": "rbMGnWpVBe0U"
   },
   "source": [
    "Так как `sorted()` функция, а не метод, то будет работать и с другими типами данных."
   ]
  },
  {
   "cell_type": "code",
   "execution_count": 40,
   "metadata": {
    "colab": {
     "base_uri": "https://localhost:8080/"
    },
    "id": "8oqpioQ_Be0U",
    "outputId": "f06a799c-f792-4323-c8af-cf8b7c1b80a5"
   },
   "outputs": [
    {
     "name": "stdout",
     "output_type": "stream",
     "text": [
      "['e', 'g', 'h', 'i', 'm', 'n', 'o', 's', 't']\n"
     ]
    }
   ],
   "source": [
    "print(sorted('something')) #если просто строку сортировать,\n",
    "#то я получу на выходе список посимвольный"
   ]
  },
  {
   "cell_type": "code",
   "execution_count": null,
   "metadata": {
    "colab": {
     "base_uri": "https://localhost:8080/"
    },
    "id": "cAuY8j9yBe0U",
    "outputId": "592d3603-dac5-49c5-f84b-bae8811a2c91"
   },
   "outputs": [
    {
     "name": "stdout",
     "output_type": "stream",
     "text": [
      "eghimnost\n"
     ]
    }
   ],
   "source": [
    "# обратная конвертация\n",
    "# print(sorted('something')) отсортирует буквы в строке, но выведет список\n",
    "print(''.join(sorted('something'))) # с помощью метода join можно собрать отсортированную строку, чуть ниже подробнее про него\n",
    "#тут мы это сделали через 0-ю строчку, это не пробел а просто ничего"
   ]
  },
  {
   "cell_type": "code",
   "execution_count": 44,
   "metadata": {},
   "outputs": [
    {
     "data": {
      "text/plain": [
       "'df&&&fd&&&gh'"
      ]
     },
     "execution_count": 44,
     "metadata": {},
     "output_type": "execute_result"
    }
   ],
   "source": [
    "\"&&&\".join([\"df\", \"fd\", \"gh\"]) # я буду использовать эту строчку как сепаратор для каких-нибудь элементов в массиве\n",
    "#  и буду их таким образом объединять"
   ]
  },
  {
   "cell_type": "markdown",
   "metadata": {
    "id": "zDkKNUgzBe0V"
   },
   "source": [
    "У функции `sorted()`, как и у метода `list.sort()` есть параметр `key`, \n",
    "с помощью которого можно указать функцию, которая будет применена к каждому элементу \n",
    "последовательности при сортировке."
   ]
  },
  {
   "cell_type": "code",
   "execution_count": 46,
   "metadata": {
    "id": "2KYM43rfBe0V"
   },
   "outputs": [],
   "source": [
    "test_string = 'A string With upper AND lower \\n cases'"
   ]
  },
  {
   "cell_type": "code",
   "execution_count": 52,
   "metadata": {},
   "outputs": [],
   "source": [
    "test_string_splitted = test_string.split() \n",
    "test_string_splitted\n",
    "#мы взяли строчку, посмотрели где здесь пробелы\n",
    "# по пробелам сделали список токенов - когда с текстом работаешь это попадается\n"
   ]
  },
  {
   "cell_type": "code",
   "execution_count": 53,
   "metadata": {
    "colab": {
     "base_uri": "https://localhost:8080/"
    },
    "id": "lOShWCDKBe0V",
    "outputId": "3bcdd0c9-a9a2-4b90-9087-611b9d32fdfb"
   },
   "outputs": [
    {
     "name": "stdout",
     "output_type": "stream",
     "text": [
      "['A', 'AND', 'With', 'cases', 'lower', 'string', 'upper']\n"
     ]
    }
   ],
   "source": [
    "# теперь можно слова отсортировать\n",
    "print(sorted(test_string.split())) # заглавные буквы получили приоритет над строчными"
   ]
  },
  {
   "cell_type": "code",
   "execution_count": 54,
   "metadata": {},
   "outputs": [
    {
     "name": "stdout",
     "output_type": "stream",
     "text": [
      "['A', 'AND', 'With', 'cases', 'lower', 'string', 'upper']\n"
     ]
    }
   ],
   "source": [
    "# или так , если присвоить значение переменной\n",
    "print(sorted(test_string_splitted))"
   ]
  },
  {
   "cell_type": "code",
   "execution_count": null,
   "metadata": {
    "colab": {
     "base_uri": "https://localhost:8080/",
     "height": 37
    },
    "id": "LFkUodG-QDiM",
    "outputId": "21ee0a5d-d33e-407d-b38f-8325aded7e97"
   },
   "outputs": [
    {
     "data": {
      "application/vnd.google.colaboratory.intrinsic+json": {
       "type": "string"
      },
      "text/plain": [
       "'AA546327'"
      ]
     },
     "execution_count": 53,
     "metadata": {},
     "output_type": "execute_result"
    }
   ],
   "source": [
    "# это мы пока выкинули, но это вроде про изменение регистров у букв\n",
    "'aa546327'.upper()"
   ]
  },
  {
   "cell_type": "code",
   "execution_count": null,
   "metadata": {
    "colab": {
     "base_uri": "https://localhost:8080/"
    },
    "id": "UPB7EflABe0V",
    "outputId": "7255b381-d331-4fd2-ce0e-b694e9e365b6"
   },
   "outputs": [
    {
     "name": "stdout",
     "output_type": "stream",
     "text": [
      "['A', 'AND', 'cases', 'lower', 'string', 'upper', 'With']\n"
     ]
    }
   ],
   "source": [
    "print(sorted(test_string.split(), key=str.upper)) # все буквы были приведены к верхнему регистру, сортировка получилась по алфавиту"
   ]
  },
  {
   "cell_type": "markdown",
   "metadata": {
    "id": "ZN5zil3wBe0W"
   },
   "source": [
    "# Кортежи (tuple)"
   ]
  },
  {
   "cell_type": "markdown",
   "metadata": {
    "id": "O8hvbeOpBe0W"
   },
   "source": [
    "Кортежи очень похожи на списки."
   ]
  },
  {
   "cell_type": "code",
   "execution_count": null,
   "metadata": {
    "colab": {
     "base_uri": "https://localhost:8080/"
    },
    "id": "wFnQ0f8PBe0W",
    "outputId": "89ae3cd8-7dca-437f-b1c8-c80fb45a2697"
   },
   "outputs": [
    {
     "name": "stdout",
     "output_type": "stream",
     "text": [
      "('Ivan Ivanov', 2001, 7.5, True)\n",
      "<class 'tuple'>\n"
     ]
    }
   ],
   "source": [
    "# кортеж, как и строчка - объект не изменяемый\n",
    "student = ('Ivan Ivanov', 2001, 7.5, True)\n",
    "print(student)\n",
    "print(type(student))"
   ]
  },
  {
   "cell_type": "markdown",
   "metadata": {
    "id": "7JLOqnLvBe0W"
   },
   "source": [
    "Пустой кортеж можно создать с помощью оператора () либо функции tuple."
   ]
  },
  {
   "cell_type": "code",
   "execution_count": null,
   "metadata": {
    "colab": {
     "base_uri": "https://localhost:8080/"
    },
    "id": "goPpmfOiBe0W",
    "outputId": "5718bd93-ec35-4d0f-ca03-1a6f5e0a3172"
   },
   "outputs": [
    {
     "name": "stdout",
     "output_type": "stream",
     "text": [
      "()\n",
      "()\n"
     ]
    }
   ],
   "source": [
    "print(())\n",
    "print(tuple())\n",
    "# зачем создавать пустой кортеж, если его нельзя изменить? хороший вопрос. хз"
   ]
  },
  {
   "cell_type": "code",
   "execution_count": null,
   "metadata": {
    "colab": {
     "base_uri": "https://localhost:8080/"
    },
    "id": "xoYuqQ7mBe0W",
    "outputId": "2008a0b6-e9dc-4886-fb06-4c954582db6c"
   },
   "outputs": [
    {
     "data": {
      "text/plain": [
       "()"
      ]
     },
     "execution_count": 58,
     "metadata": {},
     "output_type": "execute_result"
    }
   ],
   "source": [
    "x = tuple()\n",
    "x"
   ]
  },
  {
   "cell_type": "code",
   "execution_count": null,
   "metadata": {
    "colab": {
     "base_uri": "https://localhost:8080/"
    },
    "id": "QNtlsgFEBe0X",
    "outputId": "7587aa14-83cb-4538-b0eb-2420d4774af9"
   },
   "outputs": [
    {
     "data": {
      "text/plain": [
       "('Ivan Ivanov', 2001, 7.5, True)"
      ]
     },
     "execution_count": 59,
     "metadata": {},
     "output_type": "execute_result"
    }
   ],
   "source": [
    "student"
   ]
  },
  {
   "cell_type": "markdown",
   "metadata": {
    "id": "aIm0DCfXBe0X"
   },
   "source": [
    "Основное отличие кортежей от списков состоит в том, что кортежи нельзя изменять (да-да, прямо как строки)."
   ]
  },
  {
   "cell_type": "code",
   "execution_count": null,
   "metadata": {
    "colab": {
     "base_uri": "https://localhost:8080/",
     "height": 164
    },
    "id": "IzgSfJ3UBe0Y",
    "outputId": "6ba16424-fae0-4175-90a0-ad7ac3abcabe"
   },
   "outputs": [
    {
     "ename": "TypeError",
     "evalue": "ignored",
     "output_type": "error",
     "traceback": [
      "\u001b[0;31m---------------------------------------------------------------------------\u001b[0m",
      "\u001b[0;31mTypeError\u001b[0m                                 Traceback (most recent call last)",
      "\u001b[0;32m<ipython-input-60-cf841071c98c>\u001b[0m in \u001b[0;36m<module>\u001b[0;34m()\u001b[0m\n\u001b[0;32m----> 1\u001b[0;31m \u001b[0mstudent\u001b[0m\u001b[0;34m[\u001b[0m\u001b[0;36m1\u001b[0m\u001b[0;34m]\u001b[0m \u001b[0;34m=\u001b[0m \u001b[0;36m2002\u001b[0m\u001b[0;34m\u001b[0m\u001b[0;34m\u001b[0m\u001b[0m\n\u001b[0m",
      "\u001b[0;31mTypeError\u001b[0m: 'tuple' object does not support item assignment"
     ]
    }
   ],
   "source": [
    "student[1] = 2002\n",
    "# вот нельзя присвоить новое значение, вместо 2001"
   ]
  },
  {
   "cell_type": "markdown",
   "metadata": {
    "id": "XwZ4W1SIBe0Y"
   },
   "source": [
    "Списки и кортежи могут быть вложены друг в друга.  \n",
    "Например, пусть в информации о студенте у нас будет храниться не его средний балл, а список всех его оценок."
   ]
  },
  {
   "cell_type": "code",
   "execution_count": 1,
   "metadata": {
    "colab": {
     "base_uri": "https://localhost:8080/"
    },
    "id": "n3tdFAZ9Be0Y",
    "outputId": "88daa4be-e76e-4c2b-bc2d-483970b525f0"
   },
   "outputs": [
    {
     "name": "stdout",
     "output_type": "stream",
     "text": [
      "('Ivan Ivanov', 2001, [8, 7, 7, 9, 6], True)\n"
     ]
    }
   ],
   "source": [
    "student = ('Ivan Ivanov', 2001, [8, 7, 7, 9, 6], True)\n",
    "print(student)\n",
    "# если внутри тупла есть список - с ним все еще можно работать, тк список - изменяемый"
   ]
  },
  {
   "cell_type": "code",
   "execution_count": 2,
   "metadata": {},
   "outputs": [],
   "source": [
    "student[2][0] = 6347282\n",
    "# обрщаюсь ко 2 эл-ту - к списку - и хочу туда положить вот это"
   ]
  },
  {
   "cell_type": "code",
   "execution_count": 3,
   "metadata": {},
   "outputs": [
    {
     "data": {
      "text/plain": [
       "('Ivan Ivanov', 2001, [6347282, 7, 7, 9, 6], True)"
      ]
     },
     "execution_count": 3,
     "metadata": {},
     "output_type": "execute_result"
    }
   ],
   "source": [
    "student\n",
    "# так я изменил кортеж - одну его составную часть то есть. интегер я не смогу поменять внутри кортежа, как и строчки"
   ]
  },
  {
   "cell_type": "code",
   "execution_count": 4,
   "metadata": {
    "colab": {
     "base_uri": "https://localhost:8080/"
    },
    "id": "kc4bf6AXBe0Z",
    "outputId": "c61598c1-d641-4108-d37f-952934fd4aa1"
   },
   "outputs": [
    {
     "name": "stdout",
     "output_type": "stream",
     "text": [
      "('Ivan Ivanov', 2001, (8, 7, 7, 9, 6), True)\n"
     ]
    }
   ],
   "source": [
    "student = ('Ivan Ivanov', 2001, (8, 7, 7, 9, 6), True)\n",
    "print(student)\n",
    "# если у меня будет внутри кортежа кортеж, я его тоже не смогу поменять"
   ]
  },
  {
   "cell_type": "markdown",
   "metadata": {
    "id": "xaOIThw2Be0Z"
   },
   "source": [
    "Мы можем обратиться к элементу вложенного списка или кортежа с помощью двойной индексации."
   ]
  },
  {
   "cell_type": "code",
   "execution_count": 5,
   "metadata": {
    "colab": {
     "base_uri": "https://localhost:8080/"
    },
    "id": "bWj_4VX6Rs0l",
    "outputId": "f1d348dc-f98f-40cc-c442-97913a6220c7"
   },
   "outputs": [
    {
     "data": {
      "text/plain": [
       "('Ivan Ivanov', 2001, (8, 7, 7, 9, 6), True)"
      ]
     },
     "execution_count": 5,
     "metadata": {},
     "output_type": "execute_result"
    }
   ],
   "source": [
    "student"
   ]
  },
  {
   "cell_type": "code",
   "execution_count": 6,
   "metadata": {
    "colab": {
     "base_uri": "https://localhost:8080/"
    },
    "id": "9tKq7j7OBe0a",
    "outputId": "bcce4acf-db3c-43ea-8527-2c587f34b126"
   },
   "outputs": [
    {
     "name": "stdout",
     "output_type": "stream",
     "text": [
      "7\n"
     ]
    }
   ],
   "source": [
    "print(student[2][1]) # получили вторую оценку"
   ]
  },
  {
   "cell_type": "markdown",
   "metadata": {
    "id": "8mgsSgotBe0a"
   },
   "source": [
    "Иногда бывает полезно обезопасить себя от изменений массивов данных и использовать кортежи, но чаще всего мы все-таки будем работать со списками."
   ]
  },
  {
   "cell_type": "markdown",
   "metadata": {},
   "source": [
    "# Task #5"
   ]
  },
  {
   "cell_type": "markdown",
   "metadata": {},
   "source": [
    "Write a Python program to add an item in a tuple."
   ]
  },
  {
   "cell_type": "code",
   "execution_count": 4,
   "metadata": {},
   "outputs": [
    {
     "data": {
      "text/plain": [
       "(1, 3, 4, 5, 10, 777)"
      ]
     },
     "execution_count": 4,
     "metadata": {},
     "output_type": "execute_result"
    }
   ],
   "source": [
    "tuple_f = (1, 3, 4, 5, 10) #у меня есть исходный тупл, кот содержит 5 эл-в\n",
    "\n",
    "element = 777 # есть эл-т, который я хочу добавить\n",
    "\n",
    "list_f = list(tuple_f) #я превращаю исходный тупл в список. как инт в стр итд\n",
    "list_f.append(element) #к лист ф я добавил элемент через аппенд\n",
    "\n",
    "new_tuple = tuple(list_f) # а потом превратил список обратно в тупл\n",
    "\n",
    "new_tuple"
   ]
  },
  {
   "cell_type": "code",
   "execution_count": 3,
   "metadata": {},
   "outputs": [
    {
     "data": {
      "text/plain": [
       "(1, 3, 4, 5, 10, 777)"
      ]
     },
     "execution_count": 3,
     "metadata": {},
     "output_type": "execute_result"
    }
   ],
   "source": [
    "tuple_f += (element, ) # запятая в тупле - потому что тупл с 1 элементом может ток так выглядеть\n",
    "tuple_f\n",
    "\n",
    "# мы объединили тупл, положили этот Элемент в другой тупл"
   ]
  },
  {
   "cell_type": "code",
   "execution_count": 7,
   "metadata": {},
   "outputs": [
    {
     "data": {
      "text/plain": [
       "(1, 3, 4, 5, 10, 777)"
      ]
     },
     "execution_count": 7,
     "metadata": {},
     "output_type": "execute_result"
    }
   ],
   "source": [
    "# еще можно решить через вайл. он немножко костыльный\n",
    "\n",
    "i=0\n",
    "new_tuple = []\n",
    "while i < len(tuple_f):\n",
    "    el = tuple_f[i]\n",
    "    new_tuple.append(el)\n",
    "    i += 1\n",
    "# послеэ того перекладывания тупла в массив:\n",
    "\n",
    "new_tuple.append (element)\n",
    "\n",
    "new_tuple = tuple (new_tuple)\n",
    "\n",
    "new_tuple"
   ]
  },
  {
   "cell_type": "markdown",
   "metadata": {},
   "source": [
    "# Task #6"
   ]
  },
  {
   "cell_type": "markdown",
   "metadata": {},
   "source": [
    "Write a Python program to sort a tuple by its float element.\n",
    "\n",
    "Sample data: `[('item1', '12.20'), ('item2', '15.10'), ('item3', '24.5')]`\n",
    "\n",
    "Expected Output: `[('item3', '24.5'), ('item2', '15.10'), ('item1', '12.20')]`"
   ]
  },
  {
   "cell_type": "code",
   "execution_count": 10,
   "metadata": {},
   "outputs": [
    {
     "name": "stdout",
     "output_type": "stream",
     "text": [
      "Sample data:  [('item1', '12.20'), ('item2', '15.10'), ('item3', '24.5')]\n",
      "Output data:  [('item3', '24.5'), ('item2', '15.10'), ('item1', '12.20')]\n"
     ]
    }
   ],
   "source": [
    "# на дом\n",
    "\n",
    "sample_data = [\n",
    "    ('item1', '12.20'),\n",
    "    ('item2', '15.10'),\n",
    "    ('item3', '24.5'),\n",
    "]\n",
    "\n",
    "print (\"Sample data: \", sample_data)\n",
    "\n",
    "sample_data.sort(reverse = True)\n",
    "\n",
    "print (\"Output data: \", sample_data)"
   ]
  },
  {
   "cell_type": "markdown",
   "metadata": {},
   "source": [
    "# Task #7"
   ]
  },
  {
   "cell_type": "markdown",
   "metadata": {},
   "source": [
    "Write a Python program to compute element-wise sum of given tuples.\n",
    "\n",
    "Original lists:\n",
    "\n",
    "`(1, 2, 3, 4)\n",
    "(3, 5, 2, 1)\n",
    "(2, 2, 3, 1)`\n",
    "\n",
    "Element-wise sum of the said tuples:\n",
    "\n",
    "`(6, 9, 8, 6)`\n"
   ]
  },
  {
   "cell_type": "code",
   "execution_count": 8,
   "metadata": {},
   "outputs": [
    {
     "name": "stdout",
     "output_type": "stream",
     "text": [
      "Original tuples: \n",
      " (1, 2, 3, 4) \n",
      " (3, 5, 2, 1) \n",
      " (2, 2, 3, 1)\n",
      "\n",
      " Element-wise sum of the said tuples:  (6, 9, 8, 6)\n"
     ]
    }
   ],
   "source": [
    "# на дом\n",
    "\n",
    "or_tup0 = (1, 2, 3, 4)\n",
    "or_tup1 = (3, 5, 2, 1)\n",
    "or_tup2 = (2, 2, 3, 1)\n",
    "\n",
    "print (\"Original tuples: \\n\", or_tup0, \"\\n\", or_tup1, \"\\n\", or_tup2)\n",
    "\n",
    "list_f = []\n",
    "\n",
    "or_tup0 = list (or_tup0)\n",
    "or_tup1 = list (or_tup1)\n",
    "or_tup2 = list (or_tup2)\n",
    "\n",
    "i=0\n",
    "for i in range(len(or_tup0)):\n",
    "    t = or_tup0 [i] + or_tup1 [i] + or_tup2 [i]\n",
    "    list_f.append(t)\n",
    "\n",
    "el_wise_sum = tuple (list_f)\n",
    "print(\"\\n Element-wise sum of the said tuples: \", el_wise_sum)"
   ]
  },
  {
   "cell_type": "markdown",
   "metadata": {
    "id": "X4Q9E7wABe0a"
   },
   "source": [
    "\n",
    "# Опасность работы с изменяемыми типами данных"
   ]
  },
  {
   "cell_type": "markdown",
   "metadata": {
    "id": "_-nqIxM4Be0a"
   },
   "source": [
    "В работе со списками есть важный момент, на который нужно обращать внимание. Давайте рассмотрим такой код:"
   ]
  },
  {
   "cell_type": "code",
   "execution_count": null,
   "metadata": {
    "id": "2_Rkq2R5Be0a"
   },
   "outputs": [],
   "source": [
    "a = [1, 2, 3]"
   ]
  },
  {
   "cell_type": "code",
   "execution_count": null,
   "metadata": {
    "id": "wavEN77MBe0b"
   },
   "outputs": [],
   "source": [
    "b = a"
   ]
  },
  {
   "cell_type": "code",
   "execution_count": null,
   "metadata": {
    "id": "X0t_ZVIBBe0b"
   },
   "outputs": [],
   "source": [
    "b[0] = 4\n"
   ]
  },
  {
   "cell_type": "code",
   "execution_count": null,
   "metadata": {
    "colab": {
     "base_uri": "https://localhost:8080/"
    },
    "id": "oTMLMzxKBe0b",
    "outputId": "2d337aea-fb03-4d38-d368-327ed07b3488"
   },
   "outputs": [
    {
     "name": "stdout",
     "output_type": "stream",
     "text": [
      "[4, 2, 3]\n",
      "[4, 2, 3]\n"
     ]
    }
   ],
   "source": [
    "print(a)\n",
    "print(b)\n",
    "# у меня поменялся не ток массив б, но и массив а"
   ]
  },
  {
   "cell_type": "markdown",
   "metadata": {
    "id": "c78GHsqYBe0b"
   },
   "source": [
    "Почему так происходит?  \n",
    "Дело в том, что переменная a ссылается на место в памяти, где хранится список [1, 2, 3]. И когда мы пишем, что `b = a`, `b` начинает указывать на то же самое место. То есть образуется два имени для одного и того же кусочка данных. И после изменения этого кусочка через переменную `b`, значение переменной `a` тоже меняется!\n",
    "\n",
    "Как это исправить? Нужно создать копию списка a! В этом нам поможет метод `.copy()`"
   ]
  },
  {
   "cell_type": "code",
   "execution_count": null,
   "metadata": {
    "colab": {
     "base_uri": "https://localhost:8080/"
    },
    "id": "8ul1WcAKBe0b",
    "outputId": "db9ba574-32d3-452c-93ab-7280d5cdde5a"
   },
   "outputs": [
    {
     "name": "stdout",
     "output_type": "stream",
     "text": [
      "[1, 2, 3] [4, 2, 3]\n"
     ]
    }
   ],
   "source": [
    "a = [1, 2, 3]\n",
    "b = a.copy() # теперь переменная b указывает на другой список, который хранится в другом кусочке памяти\n",
    "b[0] = 4\n",
    "print(a, b)"
   ]
  },
  {
   "cell_type": "markdown",
   "metadata": {
    "id": "xPPH0Y5iBe0c"
   },
   "source": [
    "Копию можно создавать и с помощью пустого среза"
   ]
  },
  {
   "cell_type": "code",
   "execution_count": null,
   "metadata": {
    "colab": {
     "base_uri": "https://localhost:8080/"
    },
    "id": "eJBDbCq-Be0c",
    "outputId": "d639eacf-128d-454e-bb5b-27f0b66f4cca"
   },
   "outputs": [
    {
     "name": "stdout",
     "output_type": "stream",
     "text": [
      "[1, 2, 3] [4, 2, 3]\n"
     ]
    }
   ],
   "source": [
    "a = [1, 2, 3]\n",
    "b = a[:] # по умолчанию берется срез от первого элемента до последнего, то есть копируется весь список a\n",
    "# двоеточие - тоже самое что копия массива в памяти, как и через .копи()\n",
    "b[0] = 4\n",
    "print(a, b)"
   ]
  },
  {
   "cell_type": "code",
   "execution_count": null,
   "metadata": {
    "id": "F_9_uQYUBe0c",
    "outputId": "612d21fb-b7ce-4696-f255-a3948e5cc876"
   },
   "outputs": [
    {
     "data": {
      "text/plain": [
       "[1, 2, 3]"
      ]
     },
     "execution_count": 61,
     "metadata": {},
     "output_type": "execute_result"
    }
   ],
   "source": [
    "a = [1, 2, 3]\n"
   ]
  },
  {
   "cell_type": "markdown",
   "metadata": {
    "id": "vyr0QHP8Be0c"
   },
   "source": [
    "Но не путайте изменение с присваиванием!"
   ]
  },
  {
   "cell_type": "code",
   "execution_count": null,
   "metadata": {
    "id": "dG9T7IIdBe0d"
   },
   "outputs": [],
   "source": [
    "a = [1, 2, 3]"
   ]
  },
  {
   "cell_type": "code",
   "execution_count": null,
   "metadata": {
    "id": "K2j_9uQlBe0d"
   },
   "outputs": [],
   "source": [
    "b = a"
   ]
  },
  {
   "cell_type": "code",
   "execution_count": null,
   "metadata": {
    "id": "_sael9SFBe0d"
   },
   "outputs": [],
   "source": [
    "a = [4,5,6]"
   ]
  },
  {
   "cell_type": "code",
   "execution_count": null,
   "metadata": {
    "colab": {
     "base_uri": "https://localhost:8080/"
    },
    "id": "A0bdDDZtBe0d",
    "outputId": "3311c56a-ff54-477b-a74e-7fc89f99c7b9"
   },
   "outputs": [
    {
     "name": "stdout",
     "output_type": "stream",
     "text": [
      "[4, 5, 6]\n"
     ]
    }
   ],
   "source": [
    "print(a)"
   ]
  },
  {
   "cell_type": "code",
   "execution_count": null,
   "metadata": {
    "colab": {
     "base_uri": "https://localhost:8080/"
    },
    "id": "ZfOZHba3Be0d",
    "outputId": "b8631895-8660-4895-ed2a-5c4bcc466d5b"
   },
   "outputs": [
    {
     "name": "stdout",
     "output_type": "stream",
     "text": [
      "[1, 2, 3]\n"
     ]
    }
   ],
   "source": [
    "print(b) # б не изменится, тк у него в памяти - старое значение, до изменения переменной а"
   ]
  },
  {
   "cell_type": "markdown",
   "metadata": {
    "id": "iR7cFG60Be0e"
   },
   "source": [
    "В примере выше переменная a была не изменена, а перезаписана, она начала указывать на другой список, хранящийся в другом месте памяти, поэтому переменная b осталась нетронута."
   ]
  },
  {
   "cell_type": "markdown",
   "metadata": {
    "id": "HKiKGDXABe0e"
   },
   "source": [
    "### Конкатенация списков и кортежей"
   ]
  },
  {
   "cell_type": "markdown",
   "metadata": {
    "id": "zhbei8xqBe0e"
   },
   "source": [
    "На списках и кортежах определен оператор +. По аналогии со строками, он будет склеивать две части выражения.\n",
    "\n",
    "Но складывать можно только данные одного типа, список с кортежом склеить нельзя."
   ]
  },
  {
   "cell_type": "code",
   "execution_count": null,
   "metadata": {
    "colab": {
     "base_uri": "https://localhost:8080/"
    },
    "id": "6Ng1FFfuBe0e",
    "outputId": "5057097d-833e-44d2-9382-83caede5d420"
   },
   "outputs": [
    {
     "name": "stdout",
     "output_type": "stream",
     "text": [
      "[1, 2, 3, 4]\n",
      "(1, 2, 3, 4)\n"
     ]
    }
   ],
   "source": [
    "print([1, 2] + [3, 4])\n",
    "print((1, 2) + (3, 4))"
   ]
  },
  {
   "cell_type": "code",
   "execution_count": null,
   "metadata": {
    "colab": {
     "base_uri": "https://localhost:8080/"
    },
    "id": "RnNTE9wQBe0e",
    "outputId": "19654b01-61e9-4765-9e68-f3b3e1017b3d"
   },
   "outputs": [
    {
     "data": {
      "text/plain": [
       "[1, 2, 1, 2]"
      ]
     },
     "execution_count": 92,
     "metadata": {},
     "output_type": "execute_result"
    }
   ],
   "source": [
    "[1,2] *2"
   ]
  },
  {
   "cell_type": "code",
   "execution_count": null,
   "metadata": {
    "colab": {
     "base_uri": "https://localhost:8080/",
     "height": 164
    },
    "id": "0N1dXaQvBe0f",
    "outputId": "1f29b28b-0866-44ed-c89f-73bef876fb83"
   },
   "outputs": [
    {
     "ename": "TypeError",
     "evalue": "ignored",
     "output_type": "error",
     "traceback": [
      "\u001b[0;31m---------------------------------------------------------------------------\u001b[0m",
      "\u001b[0;31mTypeError\u001b[0m                                 Traceback (most recent call last)",
      "\u001b[0;32m<ipython-input-93-dbea205bf98e>\u001b[0m in \u001b[0;36m<module>\u001b[0;34m()\u001b[0m\n\u001b[0;32m----> 1\u001b[0;31m \u001b[0mprint\u001b[0m\u001b[0;34m(\u001b[0m\u001b[0;34m(\u001b[0m\u001b[0;36m1\u001b[0m\u001b[0;34m,\u001b[0m \u001b[0;36m2\u001b[0m\u001b[0;34m)\u001b[0m \u001b[0;34m+\u001b[0m \u001b[0;34m[\u001b[0m\u001b[0;36m3\u001b[0m\u001b[0;34m,\u001b[0m \u001b[0;36m4\u001b[0m\u001b[0;34m]\u001b[0m\u001b[0;34m)\u001b[0m \u001b[0;31m# а так нельзя\u001b[0m\u001b[0;34m\u001b[0m\u001b[0;34m\u001b[0m\u001b[0m\n\u001b[0m",
      "\u001b[0;31mTypeError\u001b[0m: can only concatenate tuple (not \"list\") to tuple"
     ]
    }
   ],
   "source": [
    "print((1, 2) + [3, 4]) # а так нельзя"
   ]
  },
  {
   "cell_type": "markdown",
   "metadata": {
    "id": "x9VazamvBe0f"
   },
   "source": [
    "Но можно превратить список в кортеж, а потом сложить (или наоборот)."
   ]
  },
  {
   "cell_type": "code",
   "execution_count": null,
   "metadata": {
    "colab": {
     "base_uri": "https://localhost:8080/"
    },
    "id": "sD7mg5gZBe0f",
    "outputId": "da93230e-9c01-41f2-dc07-ccbd9701f6d1"
   },
   "outputs": [
    {
     "name": "stdout",
     "output_type": "stream",
     "text": [
      "[1, 2, 3, 4]\n",
      "(1, 2, 3, 4)\n"
     ]
    }
   ],
   "source": [
    "print(list((1, 2)) + [3, 4])\n",
    "print((1, 2) + tuple([3, 4]))"
   ]
  },
  {
   "cell_type": "code",
   "execution_count": null,
   "metadata": {
    "id": "WUUkrZVwBe0g",
    "outputId": "0d840ba6-3a7b-4eab-9b93-35cd161dfc02"
   },
   "outputs": [
    {
     "data": {
      "text/plain": [
       "()"
      ]
     },
     "execution_count": 74,
     "metadata": {},
     "output_type": "execute_result"
    }
   ],
   "source": [
    "x = tuple()\n",
    "x"
   ]
  },
  {
   "cell_type": "markdown",
   "metadata": {
    "id": "CYnx8sDZBe0g"
   },
   "source": [
    "# Методы .split(), .join(),  функция map(), вывод и ввод списков"
   ]
  },
  {
   "cell_type": "markdown",
   "metadata": {
    "id": "m6P-XM4mBe0g"
   },
   "source": [
    "При работе со списками довольно часто нам придется вводить их и выводить в отформатированном виде. Сейчас мы рассмотрим несколько методов, которые помогут сделать это в одну строку. "
   ]
  },
  {
   "cell_type": "markdown",
   "metadata": {
    "id": "KOYBXG3XBe0g"
   },
   "source": [
    "### Метод .split()"
   ]
  },
  {
   "cell_type": "markdown",
   "metadata": {
    "id": "ZHuP2uxGBe0g"
   },
   "source": [
    "Метод строки .split() получает на вход строку-разделитель и возвращает список строк, разбитый по этому разделителю.\n",
    "\n",
    "По умолчанию метод разбивает строку по пробелу"
   ]
  },
  {
   "cell_type": "code",
   "execution_count": null,
   "metadata": {
    "colab": {
     "base_uri": "https://localhost:8080/"
    },
    "id": "4R-otGooBe0h",
    "outputId": "9936af25-bdb4-4223-ed51-5aca3a8dc0f6"
   },
   "outputs": [
    {
     "name": "stdout",
     "output_type": "stream",
     "text": [
      "['Hello', 'darkness', 'my', 'old', 'friend', '!#$@%$^#', 'bhfdsajklfgdsajk']\n"
     ]
    }
   ],
   "source": [
    "print('Hello darkness my old friend     !#$@%$^#         bhfdsajklfgdsajk'.split())\n"
   ]
  },
  {
   "cell_type": "code",
   "execution_count": null,
   "metadata": {
    "colab": {
     "base_uri": "https://localhost:8080/"
    },
    "id": "1meWih5rBe0h",
    "outputId": "6f83d8c9-ba0b-477c-be77-101fe0bbc221"
   },
   "outputs": [
    {
     "name": "stdout",
     "output_type": "stream",
     "text": [
      "['Ночь', 'Улица', 'Фонарь', 'Аптека']\n"
     ]
    }
   ],
   "source": [
    "print('Ночь. Улица. Фонарь. Аптека'.split('. '))"
   ]
  },
  {
   "cell_type": "markdown",
   "metadata": {
    "id": "HeWnYfi4Be0h"
   },
   "source": [
    "### Метод .join()"
   ]
  },
  {
   "cell_type": "markdown",
   "metadata": {
    "id": "zx_dnhDYBe0h"
   },
   "source": [
    "Метод .join() ведет себя с точностью до наоборот - он склеивает массив в строку, вставляя между элементами строку-разделитель."
   ]
  },
  {
   "cell_type": "code",
   "execution_count": null,
   "metadata": {
    "colab": {
     "base_uri": "https://localhost:8080/"
    },
    "id": "f-sMYg7MBe0h",
    "outputId": "936be18d-5c09-455b-a5a4-0ad68dde3423"
   },
   "outputs": [
    {
     "name": "stdout",
     "output_type": "stream",
     "text": [
      "8-800-555-35-35\n"
     ]
    }
   ],
   "source": [
    "print('-'.join(['8', '800', '555', '35', '35']))"
   ]
  },
  {
   "cell_type": "markdown",
   "metadata": {
    "id": "luVtM0qBBe0i"
   },
   "source": [
    "### Функция map()"
   ]
  },
  {
   "cell_type": "markdown",
   "metadata": {
    "id": "MWQhpLxABe0i"
   },
   "source": [
    "Функция map() берет функцию и последовательность и применяет эту функцию ко всем ее элементам (map() всегда будет ожидать от вас два аргумента).\n",
    "\n",
    "Обратите внимание, чтобы увидеть результат работы этой функции надо дополнительно вручную преобразовать в список (или в кортеж, в зависимости от ваших целей)."
   ]
  },
  {
   "cell_type": "code",
   "execution_count": 8,
   "metadata": {},
   "outputs": [
    {
     "name": "stdout",
     "output_type": "stream",
     "text": [
      "<map object at 0x0000021F611E20D0>\n"
     ]
    }
   ],
   "source": [
    "print(map(bool, [9, 0, 8, -288, 998, 0])) # не совсем то, что надо\n",
    "# я хочу проверить каждое значение внутри списка на ф-ю бул\n",
    "# ф-я бул отвечает на вопрос о том, во что превратится в тру или фолс элемент\n",
    "#9 в тру, 0 в фолс, отриц.значения в тру"
   ]
  },
  {
   "cell_type": "code",
   "execution_count": 11,
   "metadata": {},
   "outputs": [
    {
     "data": {
      "text/plain": [
       "(True, False, True, True, True, False)"
      ]
     },
     "execution_count": 11,
     "metadata": {},
     "output_type": "execute_result"
    }
   ],
   "source": [
    "bool (9), bool (0), bool (8), bool (-288), bool (998), bool (0)"
   ]
  },
  {
   "cell_type": "code",
   "execution_count": null,
   "metadata": {},
   "outputs": [],
   "source": [
    "# мап обджект = генератор. до них мы потом доберемся. \n",
    "# действие еще не выполнилось, я еще не прошел по массиву и не применил к каждому эл-ту функцию бул\n",
    "# ф-я мап должна применить ф-ю Бул ко всем значениям в списке\n",
    "# он напринтил мап обжект - тк это генератор. т.е. комп запомнил что это надо сделать\n",
    "# но еще это не сделал, он это будет делать по требованию\n",
    "# для этого надо перед мапом написать Лист"
   ]
  },
  {
   "cell_type": "code",
   "execution_count": 13,
   "metadata": {
    "colab": {
     "base_uri": "https://localhost:8080/"
    },
    "id": "5NAR0FndBe0i",
    "outputId": "c2417572-6134-460f-b2a7-e7c3bdaceab6"
   },
   "outputs": [
    {
     "name": "stdout",
     "output_type": "stream",
     "text": [
      "[True, False, True, True, True, False]\n"
     ]
    }
   ],
   "source": [
    "print(list(map(bool, [9, 0, 8, -288, 998, 0]))) # а теперь работает, каждое число преобразовалось в логическую переменную"
   ]
  },
  {
   "cell_type": "code",
   "execution_count": 15,
   "metadata": {},
   "outputs": [
    {
     "name": "stdout",
     "output_type": "stream",
     "text": [
      "['9', '0', '8', '-288', '998', '0']\n"
     ]
    }
   ],
   "source": [
    "print(list(map(str, [9, 0, 8, -288, 998, 0])))\n",
    "# теперь это список, кот состоит не из интегеров, а из строчек\n",
    "# то есть тип поменяли - можно и на флоат, тогда все будет 9.0\n",
    "# функции посложнее будут потом"
   ]
  },
  {
   "cell_type": "markdown",
   "metadata": {
    "id": "t6uKpiIABe0i"
   },
   "source": [
    "### Ввод и вывод списков"
   ]
  },
  {
   "cell_type": "markdown",
   "metadata": {
    "id": "kf4oPar6Be0i"
   },
   "source": [
    "Теперь мы можем быстро вводить и выводить списки, содержащие разные данные через разные разделители."
   ]
  },
  {
   "cell_type": "code",
   "execution_count": 16,
   "metadata": {
    "colab": {
     "base_uri": "https://localhost:8080/"
    },
    "id": "ZCNqblf_Be0j",
    "outputId": "f259c17b-fb51-4d28-f18b-c0efcbd08a60"
   },
   "outputs": [
    {
     "name": "stdout",
     "output_type": "stream",
     "text": [
      "8 950 777 11 99\n",
      "['8', '950', '777', '11', '99']\n",
      "8-950-777-11-99\n"
     ]
    }
   ],
   "source": [
    "phone = input().split() # получаем строку, разбиваем по пробелу, сразу преобразуем все элементы в числа\n",
    "print(phone)\n",
    "print('-'.join(phone)) # преобразуем массив чисел в массив строк и склеиваем через дефис"
   ]
  },
  {
   "cell_type": "markdown",
   "metadata": {
    "id": "9hSQ0SdQBe0j"
   },
   "source": [
    "Также, если нет задачи сохранить результат в переменную в виде строки, вместо join() можно использовать распаковку. \n",
    "Мы ставим оператор * перед списком, и, например, функция print() будет воспринимать его не как список, а как последовательность объектов."
   ]
  },
  {
   "cell_type": "code",
   "execution_count": 17,
   "metadata": {},
   "outputs": [
    {
     "data": {
      "text/plain": [
       "['8', '950', '777', '11', '99']"
      ]
     },
     "execution_count": 17,
     "metadata": {},
     "output_type": "execute_result"
    }
   ],
   "source": [
    "phone"
   ]
  },
  {
   "cell_type": "code",
   "execution_count": 22,
   "metadata": {},
   "outputs": [
    {
     "name": "stdout",
     "output_type": "stream",
     "text": [
      "['8', '950', '777', '11', '99']\n",
      "['8', '950', '777', '11', '99']-['44', [88]]\n"
     ]
    }
   ],
   "source": [
    "print (phone, sep='-') # не работает, получили список. надо добавить *\n",
    "# тк тут phone - это  1 объект, с кот работает принт\n",
    "# принт умеет выводить в консоль списки одним объектом. он и вывел 1м объектом\n",
    "print (phone, ['44', [88]], sep='-')  # он через дефис выводит список и список,\n",
    "#  а не элементы внутри списка"
   ]
  },
  {
   "cell_type": "code",
   "execution_count": 19,
   "metadata": {
    "colab": {
     "base_uri": "https://localhost:8080/"
    },
    "id": "ejJ_VcbwBe0j",
    "outputId": "8f6159c1-1e2f-4a2c-8550-075e1a1a5235"
   },
   "outputs": [
    {
     "name": "stdout",
     "output_type": "stream",
     "text": [
      "8-950-777-11-99\n",
      "8-950-777-11-99\n"
     ]
    }
   ],
   "source": [
    "print(*phone, sep='-') # теперь сработало. По сути, распакованный список питон видит как в примере ниже\n",
    "print(phone[0], phone[1], phone[2], phone[3], phone[4], sep='-')\n",
    "# звездочка разворачивает все элементы в списке"
   ]
  },
  {
   "cell_type": "markdown",
   "metadata": {},
   "source": [
    "# Home Tasks"
   ]
  },
  {
   "cell_type": "markdown",
   "metadata": {},
   "source": [
    "## Task #1"
   ]
  },
  {
   "cell_type": "markdown",
   "metadata": {},
   "source": [
    "Write a Python program to get the difference between the two lists. \n",
    "\n",
    "*Example 1.*\n",
    "\n",
    "In: `[1, 2, 3]` `[2, 2, 3]`\n",
    "\n",
    "Out: \n",
    "\n",
    "`Elements with index 0 are defferent: list1[0]: 1, list2[0]: 2`\n",
    "\n",
    "*Example 2.*\n",
    "\n",
    "In: `[1, 2, 3, 5]` `[2, 2, 3, 6]`\n",
    "\n",
    "Out: \n",
    "\n",
    "`Elements with index 0 are defferent: list1[0]: 1, list2[0]: 2`\n",
    "\n",
    "`Elements with index 3 are defferent: list1[3]: 5, list2[3]: 6`"
   ]
  },
  {
   "cell_type": "code",
   "execution_count": 36,
   "metadata": {},
   "outputs": [
    {
     "name": "stdout",
     "output_type": "stream",
     "text": [
      "Input data:  [1, 2, 3] [2, 2, 3]\n",
      "Elements with index 0 are different: list1[0]: 1, list2[0]: 2\n"
     ]
    }
   ],
   "source": [
    "#Example 1\n",
    "\n",
    "list1 = [1, 2, 3]\n",
    "list2 = [2, 2, 3]\n",
    "\n",
    "print (\"Input data: \", list1, list2)\n",
    "\n",
    "i=0\n",
    "for i in range(len(list1)):\n",
    "    if list1[i] != list2[i]:\n",
    "        print (f\"Elements with index {i} are different: list1[{i}]: {list1[i]}, list2[{i}]: {list2[i]}\")"
   ]
  },
  {
   "cell_type": "code",
   "execution_count": 37,
   "metadata": {},
   "outputs": [
    {
     "name": "stdout",
     "output_type": "stream",
     "text": [
      "Input data:  [1, 2, 3, 5] [2, 2, 3, 6]\n",
      "Elements with index 0 are different: list1[0]: 1, list2[0]: 2\n",
      "Elements with index 3 are different: list1[3]: 5, list2[3]: 6\n"
     ]
    }
   ],
   "source": [
    "#Example 2\n",
    "\n",
    "list1 = [1, 2, 3, 5]\n",
    "list2 = [2, 2, 3, 6]\n",
    "\n",
    "print (\"Input data: \", list1, list2)\n",
    "\n",
    "i=0\n",
    "for i in range(len(list1)):\n",
    "    if list1[i] != list2[i]:\n",
    "        print (f\"Elements with index {i} are different: list1[{i}]: {list1[i]}, list2[{i}]: {list2[i]}\")"
   ]
  }
 ],
 "metadata": {
  "colab": {
   "collapsed_sections": [],
   "name": "List_Tuple.ipynb",
   "provenance": []
  },
  "kernelspec": {
   "display_name": "Python 3 (ipykernel)",
   "language": "python",
   "name": "python3"
  },
  "language_info": {
   "codemirror_mode": {
    "name": "ipython",
    "version": 3
   },
   "file_extension": ".py",
   "mimetype": "text/x-python",
   "name": "python",
   "nbconvert_exporter": "python",
   "pygments_lexer": "ipython3",
   "version": "3.9.12"
  }
 },
 "nbformat": 4,
 "nbformat_minor": 1
}
