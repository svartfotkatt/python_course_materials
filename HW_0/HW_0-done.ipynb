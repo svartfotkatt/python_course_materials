{
 "cells": [
  {
   "cell_type": "markdown",
   "id": "4aae3dfe",
   "metadata": {},
   "source": [
    "## Вывод (std out)"
   ]
  },
  {
   "cell_type": "code",
   "execution_count": 1,
   "id": "19d51336",
   "metadata": {},
   "outputs": [],
   "source": [
    "## Напишите программу, которая вводит строки без newline или space (не забудьте что print принимает сколько угодно аргументов)\n",
    "\n",
    "# Тестовые данные\n",
    "\n",
    "# 1, 5, 8, 3 -> 1583\n",
    "# 1, \"new\", 8, \"old\" -> 1new8old"
   ]
  },
  {
   "cell_type": "code",
   "execution_count": 13,
   "id": "bf6730f7",
   "metadata": {},
   "outputs": [
    {
     "name": "stdout",
     "output_type": "stream",
     "text": [
      "1583\n",
      "1new8old\n"
     ]
    }
   ],
   "source": [
    "# решение:\n",
    "\n",
    "print ('1', '5', '8', '3', sep='')\n",
    "print (1, 'new', 8, 'old', sep='')"
   ]
  },
  {
   "cell_type": "markdown",
   "id": "c6a2735e",
   "metadata": {},
   "source": [
    "## Арифметика "
   ]
  },
  {
   "cell_type": "code",
   "execution_count": 2,
   "id": "bc23a479",
   "metadata": {},
   "outputs": [],
   "source": [
    "## Расчитайте расстояние между двумя заданными точками (math.sqrt) заданными в двумерном пространстве\n",
    "\n",
    "# Тестовые данные\n",
    "\n",
    "# [0, 0], [1, 1] -> 1.4142135623730951\n",
    "# [0, 1], [1, 5] -> 4.123105625617661\n",
    "# [4, 1], [12, 5] -> 8.94427190999916\n"
   ]
  },
  {
   "cell_type": "code",
   "execution_count": 6,
   "id": "31dcfd25",
   "metadata": {},
   "outputs": [
    {
     "name": "stdout",
     "output_type": "stream",
     "text": [
      "1.4142135623730951\n",
      "4.123105625617661\n",
      "8.94427190999916\n"
     ]
    }
   ],
   "source": [
    "# решение:\n",
    "\n",
    "import math\n",
    "\n",
    "distance([0,0],[1,1])\n",
    "distance([0,1],[1,5])\n",
    "distance([4,1],[12,5])\n",
    "\n",
    "def distance (t1,t2):\n",
    "    d = math.sqrt(math.pow(t1[0]-t2[0],2) + math.pow(t1[1]-t2[1],2))\n",
    "    print(d)"
   ]
  },
  {
   "cell_type": "markdown",
   "id": "6c5d4192",
   "metadata": {},
   "source": [
    "## Списки"
   ]
  },
  {
   "cell_type": "code",
   "execution_count": 3,
   "id": "ace65e2e",
   "metadata": {},
   "outputs": [],
   "source": [
    "## Посчитайте сумму элементов в списке (только тех, что чей тип float)\n",
    "\n",
    "# Тестовые данные\n",
    "\n",
    "color_list = [0.1,\"зеленый\", 1.6, \"белый\", 0.3, \"черный\", 7, \"2.0\"]\n",
    "\n",
    "# ответ: 2"
   ]
  },
  {
   "cell_type": "code",
   "execution_count": 35,
   "id": "3393a7bf",
   "metadata": {},
   "outputs": [
    {
     "name": "stdout",
     "output_type": "stream",
     "text": [
      "2.0\n"
     ]
    }
   ],
   "source": [
    "# решение:\n",
    "\n",
    "color_list = [0.1,\"зеленый\", 1.6, \"белый\", 0.3, \"черный\", 7, \"2.0\"]\n",
    "\n",
    "sum = 0\n",
    "i = 0\n",
    "\n",
    "for i in color_list:\n",
    "    if type(i) == float:\n",
    "        sum += i\n",
    "        i = i + 1\n",
    "    \n",
    "print(sum)\n"
   ]
  },
  {
   "cell_type": "code",
   "execution_count": 4,
   "id": "f5efd6f8",
   "metadata": {},
   "outputs": [],
   "source": [
    "## Отобразите с помощью print только первый и последний элемент списка (цикл while)\n",
    "\n",
    "# Тестовые данные\n",
    "\n",
    "color_list = [\"красный\",\"зеленый\",\"белый\" ,\"черный\"]"
   ]
  },
  {
   "cell_type": "code",
   "execution_count": 34,
   "id": "ebfa600d",
   "metadata": {},
   "outputs": [
    {
     "name": "stdout",
     "output_type": "stream",
     "text": [
      "красный\n",
      "черный\n"
     ]
    }
   ],
   "source": [
    "# решение:\n",
    "\n",
    "color_list = [\"красный\",\"зеленый\",\"белый\" ,\"черный\"]\n",
    "\n",
    "i_w = 0\n",
    "l = len(color_list)\n",
    "\n",
    "while i_w < l:\n",
    "    if i_w == 0 or i_w == l - 1:\n",
    "        print(color_list[i_w])\n",
    "    i_w += 1"
   ]
  },
  {
   "cell_type": "code",
   "execution_count": 5,
   "id": "0120e466",
   "metadata": {},
   "outputs": [],
   "source": [
    "## Проверьте есть ли в данный элемент в списке, если есть выведите с помощью print \"Element такой то was found\", если элемента не нашлось выведите \"Clear\" (цикл while) \n",
    "\n",
    "# Тестовые данные\n",
    "\n",
    "# 3 -> [1, 5, 8, 3] -> \"Element 3 was found\"\n",
    "# -1 -> [1, 5, 8, 3] -> \"Clear\"\n",
    "# \"color\" -> [1, \"color\", 1.3, 3] ->  \"Element color was found\"\n"
   ]
  },
  {
   "cell_type": "code",
   "execution_count": 16,
   "id": "ad1f414a",
   "metadata": {},
   "outputs": [
    {
     "name": "stdout",
     "output_type": "stream",
     "text": [
      "Element 3 was found\n",
      "Clear\n",
      "Element color was found\n",
      "\n",
      "Element 3 was found\n",
      "Clear\n",
      "Element color was found\n"
     ]
    }
   ],
   "source": [
    "# решение1 первое приходит на ум:\n",
    "\n",
    "n = [1,5,8,3]\n",
    "m = [1, \"color\", 1.3, 3]\n",
    "x = 3\n",
    "y = -1\n",
    "z = \"color\"\n",
    "\n",
    "if x in n:\n",
    "    print (\"Element\", x, \"was found\")\n",
    "if y not in n:\n",
    "    print (\"Clear\")\n",
    "if z in m:\n",
    "    print (\"Element\", z, \"was found\")\n",
    "    \n",
    "    \n",
    "print()        \n",
    "# решение2 приходит не сразу:\n",
    "\n",
    "search([1, 5, 8, 3],3)\n",
    "search([1, 5, 8, 3],-1)\n",
    "search([1, \"color\", 1.3, 3],\"color\")\n",
    "\n",
    "def search(arr, x):\n",
    "    if x in arr:\n",
    "        print(\"Element\", x, \"was found\")\n",
    "    else:\n",
    "        print(\"Clear\")\n",
    "        \n"
   ]
  },
  {
   "cell_type": "code",
   "execution_count": 6,
   "id": "824424aa",
   "metadata": {},
   "outputs": [],
   "source": [
    "## Пройдите по списку и объедините все элементы из списка в одну строку через пробел (цикл while)\n",
    "\n",
    "# Тестовые данные\n",
    "\n",
    "# [\"9\", \"caMii\", \" /\\y4LLIii\", \"proger\", \"v\", \"2022\", \"roDy\"] -> 9 caMii  /\\y4LLIii proger v 2022 roDy"
   ]
  },
  {
   "cell_type": "code",
   "execution_count": 75,
   "id": "1c6d358a",
   "metadata": {},
   "outputs": [
    {
     "name": "stdout",
     "output_type": "stream",
     "text": [
      " 9 caMii  /\\y4LLIii proger v 2022 roDy\n"
     ]
    }
   ],
   "source": [
    "# решение:\n",
    "\n",
    "arr = [\"9\", \"caMii\", \" /\\y4LLIii\", \"proger\", \"v\", \"2022\", \"roDy\"]\n",
    "\n",
    "i = 0\n",
    "\n",
    "x = ''\n",
    "while i < len(arr):\n",
    "    x += ' '+ arr[i]\n",
    "    i += 1\n",
    "    \n",
    "print(x)"
   ]
  },
  {
   "cell_type": "code",
   "execution_count": 7,
   "id": "1c52c4b8",
   "metadata": {},
   "outputs": [],
   "source": [
    "## Пройдите по двум списка сразу и выведите сразу по два элемента - один из одного списка, другой из другого \n",
    "## (подсказка - обращайтесь по индексу к элементам обоих списков)\n",
    "\n",
    "# Тестовые данные\n",
    "\n",
    "color_list_1 = [\"White\", \"Black\", \"Red\"]\n",
    "color_list_2 = [\"Red\", \"Green\", \"White\"]\n",
    "\n",
    "# White Red\n",
    "# Black Green\n",
    "# Red White"
   ]
  },
  {
   "cell_type": "code",
   "execution_count": 71,
   "id": "0b96f378",
   "metadata": {},
   "outputs": [
    {
     "name": "stdout",
     "output_type": "stream",
     "text": [
      "White Red\n",
      "Black Green\n",
      "Red White\n"
     ]
    }
   ],
   "source": [
    "# решение:\n",
    "\n",
    "color_list_1 = [\"White\", \"Black\", \"Red\"]\n",
    "color_list_2 = [\"Red\", \"Green\", \"White\"]\n",
    "\n",
    "i = 0\n",
    "\n",
    "while i < 3:\n",
    "    print(color_list_1[i], color_list_2[i])\n",
    "    i += 1"
   ]
  },
  {
   "cell_type": "code",
   "execution_count": 8,
   "id": "9d59ec07",
   "metadata": {},
   "outputs": [],
   "source": [
    "## Пройдите по списку и выводите каждый следующий элемент столько раз какой у него ((индекс + 1) * 3) в списке (цикл while) \n",
    "\n",
    "# Тестовые данные\n",
    "\n",
    "a = [\"a\", \"b\", \"c\", \"d\"] \n",
    "\n",
    "# ответ -> \"aaabbbbbbcccccccccdddddddddddd\""
   ]
  },
  {
   "cell_type": "code",
   "execution_count": 70,
   "id": "5bb8e780",
   "metadata": {},
   "outputs": [
    {
     "name": "stdout",
     "output_type": "stream",
     "text": [
      "aaabbbbbbcccccccccdddddddddddd"
     ]
    }
   ],
   "source": [
    "# решение:\n",
    "\n",
    "a = [\"a\", \"b\", \"c\", \"d\"]\n",
    "\n",
    "i = 0\n",
    "\n",
    "while i< len(a):\n",
    "    n=0\n",
    "    while n < (i+1)*3:\n",
    "        print(a[i], end = '')\n",
    "        n+=1\n",
    "    i+=1"
   ]
  },
  {
   "cell_type": "code",
   "execution_count": 9,
   "id": "bfd569fd",
   "metadata": {},
   "outputs": [],
   "source": [
    "## Зайдите в каждый масив внутри (если это списко) и рассортируйте мне элементы по соответствующим спискам (не забудьте про append)\n",
    "\n",
    "sample = [[\"a\", \"b\", 1, 2.4], \"string\", [\"new\", 11111, 1000.0, \"old\"]]\n",
    "\n",
    "\n",
    "integers = []\n",
    "floats = []\n",
    "strings = []\n",
    "\n",
    "# ответ\n",
    "# integers -> [1, 11111]\n",
    "# floats -> [2.4, 1000.0]\n",
    "# strings -> [\"a\", \"b\", \"string\", \"new\", \"old\"]"
   ]
  },
  {
   "cell_type": "code",
   "execution_count": 3,
   "id": "295178ce",
   "metadata": {},
   "outputs": [
    {
     "name": "stdout",
     "output_type": "stream",
     "text": [
      "[1, 11111]\n",
      "[2.4, 1000.0]\n",
      "['a', 'b', 'string', 'new', 'old']\n"
     ]
    }
   ],
   "source": [
    "# решение:\n",
    "\n",
    "sample = [[\"a\", \"b\", 1, 2.4], \"string\", [\"new\", 11111, 1000.0, \"old\"]]\n",
    "integers = []\n",
    "floats = []\n",
    "strings = []\n",
    "for arr in sample:\n",
    "    if type(arr)==list:\n",
    "        for el in arr:\n",
    "            if type(el)==int:\n",
    "                integers.append(el)\n",
    "            if type(el)==float:\n",
    "                floats.append(el)\n",
    "            if type(el)==str:\n",
    "                strings.append(el)\n",
    "    else:\n",
    "        if type(arr)==int:\n",
    "            integers.append(arr)\n",
    "        if type(arr)==float:\n",
    "            floats.append(arr)\n",
    "        if type(arr)==str:\n",
    "            strings.append(arr)  \n",
    "print(integers)\n",
    "print(floats)\n",
    "print(strings)"
   ]
  },
  {
   "cell_type": "markdown",
   "id": "4d785ec2",
   "metadata": {},
   "source": [
    "## Библиотеки "
   ]
  },
  {
   "cell_type": "code",
   "execution_count": 10,
   "id": "0937e5e0",
   "metadata": {},
   "outputs": [],
   "source": [
    "## Напишите программу, которая выводит настоящее время ( то есть в ремя в которую программа запущена, используйте либу - time) \n",
    "\n",
    "# Тестовые данные (например)\n",
    "\n",
    "# 'Sat Oct  1 00:34:36 2022'"
   ]
  },
  {
   "cell_type": "code",
   "execution_count": 20,
   "id": "c6ef06b2",
   "metadata": {},
   "outputs": [
    {
     "name": "stdout",
     "output_type": "stream",
     "text": [
      "Точное время: Sun Oct 16 03:16:48 2022\n"
     ]
    }
   ],
   "source": [
    "import time\n",
    "seconds = time.time()\n",
    "curr_time = time.ctime(seconds)\n",
    "print(\"Точное время:\", curr_time)"
   ]
  }
 ],
 "metadata": {
  "kernelspec": {
   "display_name": "Python 3 (ipykernel)",
   "language": "python",
   "name": "python3"
  },
  "language_info": {
   "codemirror_mode": {
    "name": "ipython",
    "version": 3
   },
   "file_extension": ".py",
   "mimetype": "text/x-python",
   "name": "python",
   "nbconvert_exporter": "python",
   "pygments_lexer": "ipython3",
   "version": "3.9.12"
  }
 },
 "nbformat": 4,
 "nbformat_minor": 5
}
