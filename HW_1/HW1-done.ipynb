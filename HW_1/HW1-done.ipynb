{
 "cells": [
  {
   "cell_type": "markdown",
   "id": "ef43214b",
   "metadata": {},
   "source": [
    "# 0. Наибольший общий делитель - 1 балл\n",
    "Напишите функцию, которая на вход принимает два целых числа, а на выходе отдает их наибольших общий делитель. \n",
    "\n",
    "Пример\n",
    "\n",
    "Ввод \n",
    "\n",
    "`lcd(10,2)`\n",
    "\n",
    "Вывод\n",
    "\n",
    "`2`\n",
    "\n",
    "Пример\n",
    "\n",
    "Ввод \n",
    "\n",
    "`lcd(10,25)`\n",
    "\n",
    "Вывод\n",
    "\n",
    "`5`"
   ]
  },
  {
   "cell_type": "code",
   "execution_count": 15,
   "id": "5e42e965",
   "metadata": {},
   "outputs": [
    {
     "name": "stdout",
     "output_type": "stream",
     "text": [
      "Введите первое число: 10\n",
      "Введите второе число: 25\n",
      "Наибольший общий делитель для 10 и 25: 5\n"
     ]
    }
   ],
   "source": [
    "#решение:\n",
    "\n",
    "x = int(input(\"Введите первое число: \"))\n",
    "y = int(input(\"Введите второе число: \"))\n",
    "\n",
    "if x > y:\n",
    "    l=y\n",
    "else:\n",
    "    l=x\n",
    "    \n",
    "d=1\n",
    "    \n",
    "for i in range(2, l+1):\n",
    "    if((x%i==0)and(y%i==0)):\n",
    "        d=i\n",
    "        \n",
    "print (f\"Наибольший общий делитель для {x} и {y}:\", d)"
   ]
  },
  {
   "cell_type": "code",
   "execution_count": 1,
   "id": "ae928190",
   "metadata": {},
   "outputs": [
    {
     "name": "stdout",
     "output_type": "stream",
     "text": [
      "5\n"
     ]
    }
   ],
   "source": [
    "#решение через def:\n",
    "\n",
    "def lcd(x, y):\n",
    "    while x != y:\n",
    "        if x > y:\n",
    "            x = x - y\n",
    "        else:\n",
    "            y = y - x\n",
    "    print(x)\n",
    "\n",
    "lcd (10, 25)"
   ]
  },
  {
   "cell_type": "markdown",
   "id": "777171f3",
   "metadata": {},
   "source": [
    "# 1. Задачка про перевод из `camel_case`'a в `snake_case` - 1.5 балла\n",
    " Напишите функцию, которая на вход принимает строку, записанную в `CamelCase`, а переводит ее в `snake_case`.\n",
    " Подсказка: идите по строке циклом, обрабатывайте каждый символ, если символ заглавный, к обработанным ранее добавляйте нижнее подчеркивание и нынешний переводите в `lower case` \n",
    " \n",
    " Пример:\n",
    "\n",
    "**Вход**: `'camelCaseVar'`\n",
    "\n",
    "**Выход**: `'camel_сase_var'`"
   ]
  },
  {
   "cell_type": "code",
   "execution_count": 10,
   "id": "5e4c1ced",
   "metadata": {},
   "outputs": [
    {
     "name": "stdout",
     "output_type": "stream",
     "text": [
      "Введите строку: camelCaseVar\n",
      "camel_case_var\n"
     ]
    }
   ],
   "source": [
    "#решение:\n",
    "\n",
    "s = str(input(\"Введите строку: \"))\n",
    "\n",
    "def SnakeCase(string):\n",
    "    x = ''\n",
    "    for i in string:\n",
    "        if i.isupper():\n",
    "            x += '_'\n",
    "            i = i.lower()\n",
    "        x += i\n",
    "    print(x)\n",
    "\n",
    "SnakeCase(s)"
   ]
  },
  {
   "cell_type": "markdown",
   "id": "929847a2",
   "metadata": {},
   "source": [
    "# 2. Про Поросёнка Петра - 2 балла\n",
    "На плоскости в точке `(0,0)` стоит Поросёнок Пётр. Он умеет ходить налево, направо, вверх и вниз. Расстояние его прохода в какую-либо сторону измеряется в шагах. Когда он идет вправо, его первая координата увеличивается, когда влево - уменьшается. Когда он идет вверх, его вторая координата увеличивается, а когда вниз - уменьшается.\n",
    "С клавиатуры считывается число `N` - число ходов, которые сделает Пётр. После чего на каждом шаге спрашивается, сколько шагов и в какую сторону за этот ход Пётр сделает. Так происходит, пока Пётр не осуществит все N ходов.\n",
    "Программа должна вывести, сколько шагов Пётр должен был бы сделать, чтобы кратчайшим путем прибыть из свое начальной точки `(0,0)` в свою конечную точку. \n",
    "\n",
    "Напоминание: Пётр умеет ходить только вверх-вниз, и влево-вправо, но не по диагонали.\n",
    "\n",
    "Пример ввода:\n",
    "\n",
    "Введите N: `3`\n",
    "\n",
    "Ход 1: `Вверх 1`\n",
    "\n",
    "Ход 2: `Вниз 1`\n",
    "\n",
    "Ход 3: `Вверх 1`\n",
    "\n",
    "Пример вывода:\n",
    "`Пётр находится на расстоянии 1 от (0,0)`"
   ]
  },
  {
   "cell_type": "code",
   "execution_count": 9,
   "id": "b3231431",
   "metadata": {},
   "outputs": [
    {
     "name": "stdout",
     "output_type": "stream",
     "text": [
      "Введите число ходов: 3\n",
      "Ход 1:Влево 1\n",
      "Ход 2:Вправо 4\n",
      "Ход 3:вниз 2\n",
      "Петр находится на расстоянии 1 от (0, 0)\n"
     ]
    }
   ],
   "source": [
    "#решение:\n",
    "\n",
    "n = int(input(\"Введите число ходов: \"))\n",
    "\n",
    "x = [0, 0]\n",
    "lst = []\n",
    "\n",
    "for i in range(1, n+1):\n",
    "    lst = (input(f'Ход {i}:')).split()\n",
    "    \n",
    "    if lst[0] == \"Вправо\" or lst[0] == \"вправо\":\n",
    "        x[0] = x[0] + int(lst[1])\n",
    "    elif lst[0] == \"Влево\" or lst[0] == \"влево\":\n",
    "        x[0] = x[0] - int(lst[1])\n",
    "    elif lst[0] == \"Вверх\" or lst[0] == \"вверх\":\n",
    "        x[1] = x[1] + int(lst[1])\n",
    "    elif lst[0] == \"Вниз\" or lst[0] == \"вниз\":\n",
    "        x[1] = x[1] - int(lst[1])\n",
    "    else:\n",
    "        print(\"Некорректные данные\")\n",
    "        continue\n",
    "        \n",
    "print(f\"Петр находится на расстоянии {abs(sum(x))} от (0, 0)\")"
   ]
  },
  {
   "cell_type": "markdown",
   "id": "818909ca",
   "metadata": {},
   "source": [
    "# 3. Sort the keys of the dictionary from a to z.  - 0.5 балла"
   ]
  },
  {
   "cell_type": "code",
   "execution_count": null,
   "id": "b81d45f3",
   "metadata": {},
   "outputs": [],
   "source": [
    "d_= {\"tiramisu\":5, \"chocolate\":2, \"pudding\":3, \"cheesecake\":4}"
   ]
  },
  {
   "cell_type": "code",
   "execution_count": 8,
   "id": "0da6c7f5",
   "metadata": {},
   "outputs": [
    {
     "name": "stdout",
     "output_type": "stream",
     "text": [
      "['cheesecake', 'chocolate', 'pudding', 'tiramisu']\n"
     ]
    }
   ],
   "source": [
    "#решение:\n",
    "\n",
    "d_sort= {\n",
    "    \"tiramisu\":5,\n",
    "    \"chocolate\":2,\n",
    "    \"pudding\":3,\n",
    "    \"cheesecake\":4\n",
    "}\n",
    "print(sorted(d_sort))"
   ]
  },
  {
   "cell_type": "markdown",
   "id": "77275ebf",
   "metadata": {},
   "source": [
    "# 4. Compare three values, return true only if 2 or more values are equal - 0.5 балла"
   ]
  },
  {
   "cell_type": "code",
   "execution_count": 14,
   "id": "d0893272",
   "metadata": {},
   "outputs": [
    {
     "name": "stdout",
     "output_type": "stream",
     "text": [
      "Введите 3 значения через пробел: 3 3 5\n",
      "True\n"
     ]
    }
   ],
   "source": [
    "#решение:\n",
    "\n",
    "x = list(map (float, (input(\"Введите 3 значения через пробел: \").split())))\n",
    "\n",
    "def compare():\n",
    "    for el, i in enumerate(x):\n",
    "        \n",
    "        if x.count(i) >= 2:\n",
    "            return True\n",
    "        else:\n",
    "            return False\n",
    "\n",
    "print(compare())"
   ]
  },
  {
   "cell_type": "markdown",
   "id": "895340c0",
   "metadata": {},
   "source": [
    "# 5. Given a list with pairs, sort on the sum of pairs - 0.5 балла"
   ]
  },
  {
   "cell_type": "code",
   "execution_count": 1,
   "id": "7a8971e2",
   "metadata": {},
   "outputs": [],
   "source": [
    "x = [(3,6),(4,7),(5,9),(8,4),(3,1)]"
   ]
  },
  {
   "cell_type": "code",
   "execution_count": 15,
   "id": "3ebe5e88",
   "metadata": {},
   "outputs": [
    {
     "name": "stdout",
     "output_type": "stream",
     "text": [
      "[(3, 1), (3, 6), (4, 7), (8, 4), (5, 9)]\n"
     ]
    }
   ],
   "source": [
    "# решение: \n",
    "\n",
    "x = [(3,6),(4,7),(5,9),(8,4),(3,1)]\n",
    "print(sorted (x, key = sum))"
   ]
  },
  {
   "cell_type": "markdown",
   "id": "be5b7018",
   "metadata": {},
   "source": [
    "# 6. Create a function that takes a list of numbers. Return the largest number in the list. - 0.5 балла"
   ]
  },
  {
   "cell_type": "code",
   "execution_count": null,
   "id": "2ddbc7bf",
   "metadata": {},
   "outputs": [],
   "source": [
    "findLargestNum([4, 5, 1, 3]) ➞ 5\n",
    "\n",
    "findLargestNum([300, 200, 600, 150]) ➞ 600\n",
    "\n",
    "findLargestNum([1000, 1001, 857, 1]) ➞ 1001"
   ]
  },
  {
   "cell_type": "code",
   "execution_count": 24,
   "id": "d7de4354",
   "metadata": {},
   "outputs": [
    {
     "name": "stdout",
     "output_type": "stream",
     "text": [
      "Введите список чисел через пробел: 4 5 1 3\n",
      "Наибольшее число из введенных:  5\n"
     ]
    }
   ],
   "source": [
    "# решение:\n",
    "\n",
    "x = list(map (int, (input(\"Введите список чисел через пробел: \").split())))\n",
    "\n",
    "def findLargestNum(lst):\n",
    "    return max(lst)\n",
    "\n",
    "print(\"Наибольшее число из введенных: \", findLargestNum(x))"
   ]
  },
  {
   "cell_type": "markdown",
   "id": "17918763",
   "metadata": {},
   "source": [
    "# 7. Create a function that takes a string and returns the concatenated first and last character. - 0.5 балла"
   ]
  },
  {
   "cell_type": "code",
   "execution_count": null,
   "id": "7062bfdb",
   "metadata": {},
   "outputs": [],
   "source": [
    "repetition(\"ab\", 3) ➞ \"ababab\"\n",
    "\n",
    "repetition(\"kiwi\", 1) ➞ \"kiwi\"\n",
    "\n",
    "repetition(\"cherry\", 2) ➞ \"cherrycherry\""
   ]
  },
  {
   "cell_type": "code",
   "execution_count": null,
   "id": "b0cb3599",
   "metadata": {},
   "outputs": [],
   "source": [
    "# Поставленная задача оказалась мне не совсем ясна.\n",
    "# В условии, как я поняла, говорится создать функцию, которая принимает строку и возвращает первый и последний символ.\n",
    "# А в примере приводится функция, которая повторяет строчку заданное количество раз?.."
   ]
  },
  {
   "cell_type": "code",
   "execution_count": 7,
   "id": "34b61db2",
   "metadata": {},
   "outputs": [
    {
     "name": "stdout",
     "output_type": "stream",
     "text": [
      "Введите строку: kiwi\n",
      "ki\n"
     ]
    }
   ],
   "source": [
    "#решение 0 - если придерживаться условия:\n",
    "\n",
    "string = str(input(\"Введите строку: \"))\n",
    "\n",
    "def first_plus_last_chr(string):\n",
    "    return (string[:1]+string[:len(string)-2:-1])\n",
    "\n",
    "print (first_plus_last_chr(string))"
   ]
  },
  {
   "cell_type": "code",
   "execution_count": 8,
   "id": "fbb9c4be",
   "metadata": {},
   "outputs": [
    {
     "name": "stdout",
     "output_type": "stream",
     "text": [
      "Введите строку: kiwi\n",
      "kiwikiwikiwi\n"
     ]
    }
   ],
   "source": [
    "#решение 1 - если придерживаться примера:\n",
    "\n",
    "s = str(input(\"Введите строку: \"))\n",
    "\n",
    "def repetition(s, num):\n",
    "    return (s * num)\n",
    "\n",
    "print (repetition (s, 3))"
   ]
  },
  {
   "cell_type": "markdown",
   "id": "5c2fe48a",
   "metadata": {},
   "source": [
    "# 8. Create a function that takes a 2D list lst returns the sum of the minimum value in each row. - 0.5 балла"
   ]
  },
  {
   "cell_type": "code",
   "execution_count": null,
   "id": "c3232abb",
   "metadata": {},
   "outputs": [],
   "source": [
    "sum_minimums([\n",
    "  [1, 2, 3, 4, 5],\n",
    "  [5, 6, 7, 8, 9],\n",
    "  [20, 21, 34, 56, 100]\n",
    "] ➞ 26\n",
    "\n",
    "# minimum value of the first row is 1\n",
    "# minimum value of the second row is 5\n",
    "# minimum value of the third row is 20"
   ]
  },
  {
   "cell_type": "code",
   "execution_count": 16,
   "id": "3eb044c6",
   "metadata": {},
   "outputs": [
    {
     "name": "stdout",
     "output_type": "stream",
     "text": [
      "[[1, 2, 3, 4, 5], [5, 6, 7, 8, 9], [20, 21, 34, 56, 100]]\n",
      "Сумма минимальных значений из представленных списков:  26\n"
     ]
    }
   ],
   "source": [
    "#решение с заданным условием:\n",
    "\n",
    "summ_minimums = ([\n",
    "  [1, 2, 3, 4, 5],\n",
    "  [5, 6, 7, 8, 9],\n",
    "  [20, 21, 34, 56, 100]\n",
    "])\n",
    "    \n",
    "print (summ_minimums)\n",
    "\n",
    "def sum_minimums(x):\n",
    "    result = 0\n",
    "    for i in x:\n",
    "        result += min(i)\n",
    "    return (result)\n",
    "\n",
    "print (\"Сумма минимальных значений из представленных списков: \", sum_minimums(summ_minimums))"
   ]
  },
  {
   "cell_type": "code",
   "execution_count": 4,
   "id": "b0e3b5ff",
   "metadata": {},
   "outputs": [
    {
     "name": "stdout",
     "output_type": "stream",
     "text": [
      "Введите количество строк в 2D-списке: 3\n",
      "Введите списки чисел для каждой строки через пробел: 1 2 3 4 5\n",
      "Введите списки чисел для каждой строки через пробел: 5 6 7 8 9\n",
      "Введите списки чисел для каждой строки через пробел: 20 21 34 56 100\n",
      "Сумма минимальных значений из введенных списков:  26\n"
     ]
    }
   ],
   "source": [
    "#решение с возможностью ввода:\n",
    "\n",
    "n = int(input(\"Введите количество строк в 2D-списке: \"))\n",
    "\n",
    "lst = []\n",
    "\n",
    "for i in range(n):\n",
    "    lst.append(list(map(int, input(\"Введите списки чисел для каждой строки через пробел: \").split())))\n",
    "    \n",
    "def sum_minimums(x):\n",
    "    result = 0\n",
    "    for i in x:\n",
    "        result += min(i)\n",
    "    return (result)\n",
    "\n",
    "print (\"Сумма минимальных значений из введенных списков: \", sum_minimums(lst))\n"
   ]
  },
  {
   "cell_type": "markdown",
   "id": "88c6709f",
   "metadata": {},
   "source": [
    "# 9. Create a function to return the amount of potatoes there are in a string. - 0.5 балла"
   ]
  },
  {
   "cell_type": "code",
   "execution_count": null,
   "id": "e2610cbd",
   "metadata": {},
   "outputs": [],
   "source": [
    "potatoes(\"potato\") ➞ 1\n",
    "\n",
    "potatoes(\"potatopotato\") ➞ 2\n",
    "\n",
    "potatoes(\"potatoapple\") ➞ 1"
   ]
  },
  {
   "cell_type": "code",
   "execution_count": 18,
   "id": "f6865b2f",
   "metadata": {
    "scrolled": true
   },
   "outputs": [
    {
     "name": "stdout",
     "output_type": "stream",
     "text": [
      "Введите картофельную строку: potatopotato\n",
      "2\n"
     ]
    }
   ],
   "source": [
    "#решение:\n",
    "\n",
    "s = str(input(\"Введите картофельную строку: \"))\n",
    "\n",
    "def potatoes(x):\n",
    "    lst = x.split(\"potato\")\n",
    "    return print(len(lst) - 1)\n",
    "\n",
    "potatoes(s)"
   ]
  },
  {
   "cell_type": "markdown",
   "id": "7fb5aa44",
   "metadata": {},
   "source": [
    "# 10. Create a function that takes a list of integers as an argument and returns a unique number from that list. All numbers except unique ones have the same number of occurrences in the list. - 0.5 балла"
   ]
  },
  {
   "cell_type": "code",
   "execution_count": null,
   "id": "a43f80e0",
   "metadata": {},
   "outputs": [],
   "source": [
    "find_single_number([2, 2, 2, 3, 4, 4, 4]) ➞ 3\n",
    "\n",
    "find_single_number([2]) ➞ 2\n",
    "\n",
    "find_single_number([]) ➞ None\n",
    "\n",
    "find_single_number([7, 13, 3, 6, 5, 4, 4, 13, 5, 3, 6, 7, 6, 5, 3, 13, 4, 7, 13, 5, 7, 4, 3, 6, 8, 4, 3, 7, 5, 6, 13]) ➞ 8\n",
    "\n",
    "find_single_number([1, 2, 3, 6, 5, 4, 4, 2, 5, 3, 6, 1, 6, 5, 3, 2, 4, 1, 2, 5, 1, 4, 3, 6, 101, 4, 3, 1, 5, 6, 2]) ➞ 101\n"
   ]
  },
  {
   "cell_type": "code",
   "execution_count": 5,
   "id": "22824873",
   "metadata": {},
   "outputs": [
    {
     "name": "stdout",
     "output_type": "stream",
     "text": [
      "Введите список целых чисел через пробел: 7, 13, 3, 6, 5, 4, 4, 13, 5, 3, 6, 7, 6, 5, 3, 13, 4, 7, 13, 5, 7, 4, 3, 6, 8, 4, 3, 7, 5, 6, 13\n",
      "Уникальное число в введенном списке:  8\n"
     ]
    }
   ],
   "source": [
    "#решение:\n",
    "\n",
    "n = input(\"Введите список целых чисел через пробел: \")\n",
    "\n",
    "def find_single_number(lst):\n",
    "    for i in lst:\n",
    "        if lst.count(i) == 1:\n",
    "            return i\n",
    "        \n",
    "print (\"Уникальное число в введенном списке: \", find_single_number (n))"
   ]
  },
  {
   "cell_type": "markdown",
   "id": "0313ea52",
   "metadata": {},
   "source": [
    "# 11. Given a letter and a list of words, return whether the letter does not appear in any of the words. - 0.5 балла"
   ]
  },
  {
   "cell_type": "code",
   "execution_count": null,
   "id": "0cb649a5",
   "metadata": {},
   "outputs": [],
   "source": [
    "forbidden_letter(\"r\", [\"rock\", \"paper\", \"scissors\"]) ➞ False\n",
    "\n",
    "forbidden_letter(\"a\", [\"spoon\", \"fork\", \"knife\"]) ➞ True\n",
    "\n",
    "forbidden_letter(\"m\", []) ➞ True"
   ]
  },
  {
   "cell_type": "code",
   "execution_count": 8,
   "id": "f4a74a87",
   "metadata": {},
   "outputs": [
    {
     "name": "stdout",
     "output_type": "stream",
     "text": [
      "Введите букву: a\n",
      "Введите список слов через пробел: spoon fork knife\n",
      "True\n"
     ]
    }
   ],
   "source": [
    "#решение:\n",
    "\n",
    "letter = str(input (\"Введите букву: \"))\n",
    "words = list(map(str, input(\"Введите список слов через пробел: \").split()))\n",
    "\n",
    "\n",
    "def forbidden_letter(letter, words):\n",
    "    if words == []:\n",
    "        return True\n",
    "    else:\n",
    "        for i in words:\n",
    "            if letter in i:\n",
    "                return False\n",
    "            else:\n",
    "                return True\n",
    "\n",
    "print (forbidden_letter(letter, words))"
   ]
  },
  {
   "cell_type": "markdown",
   "id": "0a7ef5b5",
   "metadata": {},
   "source": [
    "# 12.  Define a function which create a Pattern like this one.  - 2 балла"
   ]
  },
  {
   "cell_type": "code",
   "execution_count": null,
   "id": "7617ebb7",
   "metadata": {},
   "outputs": [],
   "source": [
    "Input: 4\n",
    "Pattern:\n",
    "\n",
    " 01234\n",
    "  | |     0\n",
    " -----    1\n",
    "  | |     2\n",
    " -----    3\n",
    "  | |     4"
   ]
  },
  {
   "cell_type": "code",
   "execution_count": 55,
   "id": "067e228e",
   "metadata": {},
   "outputs": [
    {
     "name": "stdout",
     "output_type": "stream",
     "text": [
      "Input: 9\n",
      "0123456789\n",
      " | | | | |     0\n",
      "-----------    1\n",
      " | | | | |     2\n",
      "-----------    3\n",
      " | | | | |     4\n",
      "-----------    5\n",
      " | | | | |     6\n",
      "-----------    7\n",
      " | | | | |     8\n",
      "-----------    9\n"
     ]
    }
   ],
   "source": [
    "#решение\n",
    "\n",
    "num=int(input(\"Input: \"))\n",
    "\n",
    "def func():\n",
    "    el1 = \" |\"\n",
    "    el2 = \"-\"\n",
    "    space1 = \"   \"\n",
    "    space2 = \"  \"\n",
    "    \n",
    "    for i in range (num+1):\n",
    "        new_i=str(i)[-1]\n",
    "        print (new_i, end=\"\")\n",
    "\n",
    "    print ()\n",
    "        \n",
    "    for i in range (num+1):\n",
    "        \n",
    "        if num % 2 == 0:\n",
    "            if i % 2 == 0:\n",
    "                print (el1 * ((num+1)//2), space1, i)\n",
    "            else:\n",
    "                print (el2 * (num+1), space2, i)\n",
    "        else:\n",
    "            if i % 2 == 0:\n",
    "                print (el1 * ((num+1)//2), space1, i)\n",
    "            else:\n",
    "                print ((el2 * (num+1))+el2, space2, i)\n",
    "            \n",
    "func()"
   ]
  },
  {
   "cell_type": "markdown",
   "id": "0d5edcd1",
   "metadata": {},
   "source": [
    "# 13. Create a function that takes three numbers as arguments and returns True if it's a triangle and False if not.  - 0.5 балла"
   ]
  },
  {
   "cell_type": "code",
   "execution_count": null,
   "id": "d867302c",
   "metadata": {},
   "outputs": [],
   "source": [
    "is_triangle(2, 3, 4) ➞ True\n",
    "\n",
    "is_triangle(3, 4, 5) ➞ True\n",
    "\n",
    "is_triangle(4, 3, 8) ➞ False"
   ]
  },
  {
   "cell_type": "code",
   "execution_count": 3,
   "id": "e4c675fb",
   "metadata": {},
   "outputs": [
    {
     "name": "stdout",
     "output_type": "stream",
     "text": [
      "Введите список чисел через пробел: 4 3 8\n",
      "False\n"
     ]
    }
   ],
   "source": [
    "#решение:\n",
    "\n",
    "x, y, z = tuple(map (int, (input(\"Введите список чисел через пробел: \").split())))\n",
    "\n",
    "def is_triangle(x, y, z):\n",
    "    if (x+y)>z and (x+z)>y and (z+y)>x:\n",
    "        return True\n",
    "    else:\n",
    "        return False\n",
    "\n",
    "print (is_triangle(x, y, z))"
   ]
  },
  {
   "cell_type": "markdown",
   "id": "2bdfb66e",
   "metadata": {},
   "source": [
    "# 14. Create a \"Code\" Generator that takes text as input and replaces some letter with another letter, and outputs the \"encoded\" message. Create funcs to encode and decode messages"
   ]
  },
  {
   "cell_type": "code",
   "execution_count": null,
   "id": "0caf2b35",
   "metadata": {},
   "outputs": [],
   "source": [
    "replacement = {\"a\": \"b\", \"d\": \"1\" ......}"
   ]
  },
  {
   "cell_type": "code",
   "execution_count": 26,
   "id": "138d090e",
   "metadata": {},
   "outputs": [
    {
     "name": "stdout",
     "output_type": "stream",
     "text": [
      "Введите 1 - если хотите закодировать строку \n",
      "Введите 0 если хотите декодировать строку\n",
      "1\n",
      "Введите строку для кодирования: HelLo DarKnesS My OlD FriEnd\n",
      "r6Mo8 7B*f36){ nT uM7 p*0t31\n"
     ]
    }
   ],
   "source": [
    "#решение:\n",
    "\n",
    "def code_message(string, repl):\n",
    "    ll = list(string)\n",
    "    for i in range(0, len(ll)):\n",
    "        if ll[i] in repl:\n",
    "            ll[i] = repl[ll[i]]\n",
    "            string = \"\".join(ll)\n",
    "    print(string)\n",
    "\n",
    "\n",
    "replacement = {\"a\": \"B\", \"b\": \"5\", \"c\": \"F\", \"d\": \"1\", \"e\": \"6\", \"f\": \"$\", \"g\": \"2\", \"h\": \"4\", \"i\": \"0\", \"j\": \"C\",\n",
    "               \"k\": \"A\", \"l\": \"M\", \"m\": \"L\", \"n\": \"3\", \"o\": \"8\", \"p\": \"#\", \"q\": \"R\", \"r\": \"*\", \"s\": \")\", \"t\": \"^\",\n",
    "               \"u\": \"Z\", \"v\": \"№\", \"w\": \"@\", \"x\": \"&\", \"y\": \"T\", \"z\": \"U\",\n",
    "              \"A\": \"v\", \"B\": \"?\", \"C\": \"!\", \"D\": \"7\", \"E\": \"t\", \"F\": \"p\", \"G\": \"h\", \"H\": \"r\", \"I\": \"c\", \"J\": \"9\", \n",
    "               \"K\": \"f\", \"L\": \"o\", \"M\": \"n\", \"N\": \"y\", \"O\": \"u\", \"P\": \"(\", \"Q\": \"[\", \"R\": \"]\", \"S\": \"{\", \"T\": \"}\", \n",
    "               \"U\": \";\", \"V\": \"l\", \"W\": \"z\", \"X\": \"%\", \"Y\": \"a\", \"Z\": \"j\"}\n",
    "keys = list(replacement.keys())\n",
    "dereplacement = dict.fromkeys(replacement.values())\n",
    "for n, i in enumerate(dereplacement):\n",
    "    dereplacement[i] = keys[n]\n",
    "\n",
    "\n",
    "print(\"Введите 1 - если хотите закодировать строку \\nВведите 0 если хотите декодировать строку\", sep=\"\")\n",
    "x = int(input())\n",
    "if x == 1:\n",
    "    print(\"Введите строку для кодирования: \", end=\"\")\n",
    "    s = input()\n",
    "    code_message(s, replacement)\n",
    "elif x == 0:\n",
    "    print(\"Введите строку для декодирования: \", end=\"\")\n",
    "    s = input()\n",
    "    code_message(s, dereplacement)\n",
    "else:\n",
    "    print(\"Некорректная команда\")"
   ]
  },
  {
   "cell_type": "code",
   "execution_count": 27,
   "id": "6a7ad3de",
   "metadata": {},
   "outputs": [
    {
     "name": "stdout",
     "output_type": "stream",
     "text": [
      "Введите 1 - если хотите закодировать строку \n",
      "Введите 0 если хотите декодировать строку\n",
      "0\n",
      "Введите строку для декодирования: r6Mo8 7B*f36){ nT uM7 p*0t31\n",
      "HelLo DarKnesS My OlD FriEnd\n"
     ]
    }
   ],
   "source": [
    "# то же самое решение, но с декодированием полученной выше строки:\n",
    "\n",
    "def code_message(string, repl):\n",
    "    ll = list(string)\n",
    "    for i in range(0, len(ll)):\n",
    "        if ll[i] in repl:\n",
    "            ll[i] = repl[ll[i]]\n",
    "            string = \"\".join(ll)\n",
    "    print(string)\n",
    "\n",
    "\n",
    "replacement = {\"a\": \"B\", \"b\": \"5\", \"c\": \"F\", \"d\": \"1\", \"e\": \"6\", \"f\": \"$\", \"g\": \"2\", \"h\": \"4\", \"i\": \"0\", \"j\": \"C\",\n",
    "               \"k\": \"A\", \"l\": \"M\", \"m\": \"L\", \"n\": \"3\", \"o\": \"8\", \"p\": \"#\", \"q\": \"R\", \"r\": \"*\", \"s\": \")\", \"t\": \"^\",\n",
    "               \"u\": \"Z\", \"v\": \"№\", \"w\": \"@\", \"x\": \"&\", \"y\": \"T\", \"z\": \"U\",\n",
    "              \"A\": \"v\", \"B\": \"?\", \"C\": \"!\", \"D\": \"7\", \"E\": \"t\", \"F\": \"p\", \"G\": \"h\", \"H\": \"r\", \"I\": \"c\", \"J\": \"9\", \n",
    "               \"K\": \"f\", \"L\": \"o\", \"M\": \"n\", \"N\": \"y\", \"O\": \"u\", \"P\": \"(\", \"Q\": \"[\", \"R\": \"]\", \"S\": \"{\", \"T\": \"}\", \n",
    "               \"U\": \";\", \"V\": \"l\", \"W\": \"z\", \"X\": \"%\", \"Y\": \"a\", \"Z\": \"j\"}\n",
    "keys = list(replacement.keys())\n",
    "dereplacement = dict.fromkeys(replacement.values())\n",
    "for n, i in enumerate(dereplacement):\n",
    "    dereplacement[i] = keys[n]\n",
    "\n",
    "\n",
    "print(\"Введите 1 - если хотите закодировать строку \\nВведите 0 если хотите декодировать строку\", sep=\"\")\n",
    "x = int(input())\n",
    "if x == 1:\n",
    "    print(\"Введите строку для кодирования: \", end=\"\")\n",
    "    s = input()\n",
    "    code_message(s, replacement)\n",
    "elif x == 0:\n",
    "    print(\"Введите строку для декодирования: \", end=\"\")\n",
    "    s = input()\n",
    "    code_message(s, dereplacement)\n",
    "else:\n",
    "    print(\"Некорректная команда\")"
   ]
  }
 ],
 "metadata": {
  "kernelspec": {
   "display_name": "Python 3 (ipykernel)",
   "language": "python",
   "name": "python3"
  },
  "language_info": {
   "codemirror_mode": {
    "name": "ipython",
    "version": 3
   },
   "file_extension": ".py",
   "mimetype": "text/x-python",
   "name": "python",
   "nbconvert_exporter": "python",
   "pygments_lexer": "ipython3",
   "version": "3.9.12"
  }
 },
 "nbformat": 4,
 "nbformat_minor": 5
}
